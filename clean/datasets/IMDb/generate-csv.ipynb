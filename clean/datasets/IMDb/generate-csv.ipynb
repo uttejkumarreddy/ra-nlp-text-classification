{
 "cells": [
  {
   "cell_type": "code",
   "execution_count": 1,
   "metadata": {},
   "outputs": [],
   "source": [
    "import glob\n",
    "import os\n",
    "import numpy as np\n",
    "import pandas as pd\n",
    "import nltk\n",
    "import matplotlib.pyplot as plt"
   ]
  },
  {
   "cell_type": "code",
   "execution_count": 5,
   "metadata": {},
   "outputs": [],
   "source": [
    "def get_data(split):\n",
    "    if split.lower() == \"train\":\n",
    "        folder = \"train\"\n",
    "    elif split.lower() == \"test\":\n",
    "        folder = \"test\"\n",
    "    else:\n",
    "        raise ValueError(\"Invalid data split specified.\")\n",
    "\n",
    "    file_names = []\n",
    "    text = []\n",
    "    is_positive = []\n",
    "\n",
    "    # read all positive files\n",
    "    files = glob.glob(os.path.join(\"aclImdb\", folder, \"pos\", \"*\"))\n",
    "    for file in files:\n",
    "        head, tail = os.path.split(file)\n",
    "        file_names.append(tail)\n",
    "        is_positive.append(1)\n",
    "        with open(file, \"rb\") as open_file:\n",
    "            text.append(open_file.readlines()[0])\n",
    "\n",
    "    # read all negative files\n",
    "    files = glob.glob(os.path.join(\"aclImdb\", folder, \"neg\", \"*\"))\n",
    "    for file in files:\n",
    "        head, tail = os.path.split(file)\n",
    "        file_names.append(tail)\n",
    "        is_positive.append(0)\n",
    "        with open(file, \"rb\") as open_file:\n",
    "            text.append(open_file.readlines()[0])\n",
    "\n",
    "    return pd.DataFrame(\n",
    "        data={\"file\": file_names, \"text\": text, \"is_positive\": is_positive}\n",
    "    )"
   ]
  },
  {
   "cell_type": "code",
   "execution_count": 18,
   "metadata": {},
   "outputs": [],
   "source": [
    "df_train = get_data(\"train\")\n",
    "df_train[\"text\"] = df_train[\"text\"].apply(lambda s: s.decode('utf-8'))\n"
   ]
  },
  {
   "cell_type": "code",
   "execution_count": 20,
   "metadata": {},
   "outputs": [],
   "source": [
    "df_test = get_data(\"test\")\n",
    "df_test[\"text\"] = df_test[\"text\"].apply(lambda s: s.decode('utf-8'))\n"
   ]
  },
  {
   "cell_type": "code",
   "execution_count": 22,
   "metadata": {},
   "outputs": [],
   "source": [
    "df_train.to_csv(\"train.csv\", encoding=\"utf-8\", index=False)\n",
    "df_test.to_csv(\"test.csv\", encoding=\"utf-8\", index=False)"
   ]
  }
 ],
 "metadata": {
  "kernelspec": {
   "display_name": "Python 3.10.6 64-bit",
   "language": "python",
   "name": "python3"
  },
  "language_info": {
   "codemirror_mode": {
    "name": "ipython",
    "version": 3
   },
   "file_extension": ".py",
   "mimetype": "text/x-python",
   "name": "python",
   "nbconvert_exporter": "python",
   "pygments_lexer": "ipython3",
   "version": "3.10.6"
  },
  "orig_nbformat": 4,
  "vscode": {
   "interpreter": {
    "hash": "76826f4a804c21a57e5e993b5e90891f3b0ceb67c8450909509d2fbb24cd8922"
   }
  }
 },
 "nbformat": 4,
 "nbformat_minor": 2
}
