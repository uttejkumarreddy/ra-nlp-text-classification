{
  "nbformat": 4,
  "nbformat_minor": 0,
  "metadata": {
    "colab": {
      "provenance": []
    },
    "kernelspec": {
      "name": "python3",
      "display_name": "Python 3"
    },
    "language_info": {
      "name": "python"
    },
    "accelerator": "GPU",
    "gpuClass": "standard"
  },
  "cells": [
    {
      "cell_type": "code",
      "execution_count": 1,
      "metadata": {
        "id": "hVThO9Pi_ueR",
        "colab": {
          "base_uri": "https://localhost:8080/"
        },
        "outputId": "e6c0ac59-ff51-4956-fc11-54bd6d23ac45"
      },
      "outputs": [
        {
          "output_type": "stream",
          "name": "stdout",
          "text": [
            "Mounted at /content/drive\n"
          ]
        }
      ],
      "source": [
        "from google.colab import drive\n",
        "drive.mount('/content/drive')"
      ]
    },
    {
      "cell_type": "code",
      "source": [
        "import os\n",
        "import cv2\n",
        "from PIL import Image\n",
        "import tensorflow as tf\n",
        "from keras import backend as K\n",
        "from keras.models import load_model\n",
        "from tensorflow.keras.preprocessing.image import img_to_array\n",
        "from tensorflow.keras.optimizers import Adam, RMSprop\n",
        "from tensorflow.keras.callbacks import ReduceLROnPlateau\n",
        "from tensorflow.keras.preprocessing.image import ImageDataGenerator\n",
        "import matplotlib.pyplot as plt\n",
        "\n",
        "import matplotlib.pyplot as plt\n",
        "import numpy as np\n",
        "import PIL\n",
        "import tensorflow as tf\n",
        "\n",
        "import pathlib\n",
        "\n",
        "from tensorflow import keras\n",
        "from tensorflow.keras import layers\n",
        "from tensorflow.keras.models import Sequential"
      ],
      "metadata": {
        "id": "lphVCqoCnagY"
      },
      "execution_count": 2,
      "outputs": []
    },
    {
      "cell_type": "code",
      "source": [
        "DATASET_LOCATION = '/content/drive/MyDrive/ai-playground/ra-text-classification-spectrogram/spectrograms/bert-isot4000'\n",
        "data_dir = pathlib.Path(DATASET_LOCATION)"
      ],
      "metadata": {
        "id": "aWEsFWQ5nkgY"
      },
      "execution_count": 3,
      "outputs": []
    },
    {
      "cell_type": "code",
      "source": [
        "TRAIN_FRACTION = 0.8\n",
        "batch_size = 32 # default batch size of data\n",
        "img_height = 224 # default height to which image is resized\n",
        "img_width = 224 # default width to which image is resized\n",
        "seed = 2022 # random seed for shuffling and transformations"
      ],
      "metadata": {
        "id": "Hi3tAxrLntI4"
      },
      "execution_count": 4,
      "outputs": []
    },
    {
      "cell_type": "code",
      "source": [
        "ds_train = tf.keras.utils.image_dataset_from_directory(\n",
        "  data_dir,\n",
        "  validation_split = 1 - TRAIN_FRACTION,\n",
        "  subset = \"training\",\n",
        "  seed = seed,\n",
        "  image_size = (img_height, img_width),\n",
        "  batch_size = batch_size)"
      ],
      "metadata": {
        "colab": {
          "base_uri": "https://localhost:8080/"
        },
        "id": "CO4Z0iZWnuO8",
        "outputId": "e1f4fa25-e825-4710-9441-38114b5874c6"
      },
      "execution_count": 5,
      "outputs": [
        {
          "output_type": "stream",
          "name": "stdout",
          "text": [
            "Found 3032 files belonging to 2 classes.\n",
            "Using 2426 files for training.\n"
          ]
        }
      ]
    },
    {
      "cell_type": "code",
      "source": [
        "ds_val = tf.keras.utils.image_dataset_from_directory(\n",
        "  data_dir,\n",
        "  validation_split = 1 - TRAIN_FRACTION,\n",
        "  subset = \"validation\",\n",
        "  seed = seed,\n",
        "  image_size = (img_height, img_width),\n",
        "  batch_size = batch_size)"
      ],
      "metadata": {
        "colab": {
          "base_uri": "https://localhost:8080/"
        },
        "id": "nAx33XQOnvW8",
        "outputId": "7ce86a1f-d3b9-4023-daa5-77666b06746c"
      },
      "execution_count": 6,
      "outputs": [
        {
          "output_type": "stream",
          "name": "stdout",
          "text": [
            "Found 3032 files belonging to 2 classes.\n",
            "Using 606 files for validation.\n"
          ]
        }
      ]
    },
    {
      "cell_type": "code",
      "source": [
        "AUTOTUNE = tf.data.AUTOTUNE\n",
        "\n",
        "train_ds = ds_train.cache().shuffle(1000).prefetch(buffer_size=AUTOTUNE)\n",
        "val_ds = ds_val.cache().prefetch(buffer_size=AUTOTUNE)"
      ],
      "metadata": {
        "id": "WY55aboboZS4"
      },
      "execution_count": 7,
      "outputs": []
    },
    {
      "cell_type": "code",
      "source": [
        "pre_trained_model = tf.keras.applications.VGG16(input_shape=(224, 224, 3), include_top=False, weights=\"imagenet\")"
      ],
      "metadata": {
        "colab": {
          "base_uri": "https://localhost:8080/"
        },
        "id": "x3ozMopKn10o",
        "outputId": "4d1ac2bd-0600-47c6-9360-9cc5972f9b58"
      },
      "execution_count": 8,
      "outputs": [
        {
          "output_type": "stream",
          "name": "stdout",
          "text": [
            "Downloading data from https://storage.googleapis.com/tensorflow/keras-applications/vgg16/vgg16_weights_tf_dim_ordering_tf_kernels_notop.h5\n",
            "58889256/58889256 [==============================] - 0s 0us/step\n"
          ]
        }
      ]
    },
    {
      "cell_type": "code",
      "source": [
        "for layer in pre_trained_model.layers:\n",
        "  layer.trainable = False"
      ],
      "metadata": {
        "id": "jKxRtgK6n_4T"
      },
      "execution_count": 9,
      "outputs": []
    },
    {
      "cell_type": "code",
      "source": [
        "last_layer = pre_trained_model.get_layer('block5_pool')\n",
        "last_output = last_layer.output\n",
        "x = tf.keras.layers.GlobalMaxPooling2D()(last_output)\n",
        "x = tf.keras.layers.Dense(512, activation='relu')(x)\n",
        "x = tf.keras.layers.Dropout(0.5)(x)\n",
        "x = tf.keras.layers.Dense(1, activation='sigmoid')(x)"
      ],
      "metadata": {
        "id": "74yakO0IoBuP"
      },
      "execution_count": 10,
      "outputs": []
    },
    {
      "cell_type": "code",
      "source": [
        "model = tf.keras.Model(pre_trained_model.input, x)"
      ],
      "metadata": {
        "id": "VC_5ZnWUoDDr"
      },
      "execution_count": 11,
      "outputs": []
    },
    {
      "cell_type": "code",
      "source": [
        "model.compile(optimizer='adam', loss=tf.keras.losses.binary_crossentropy, metrics=['accuracy'])"
      ],
      "metadata": {
        "id": "wpwGVH2loEb4"
      },
      "execution_count": 12,
      "outputs": []
    },
    {
      "cell_type": "code",
      "source": [
        "epochs=100\n",
        "history = model.fit(\n",
        "  train_ds,\n",
        "  validation_data=val_ds,\n",
        "  epochs=epochs\n",
        ")"
      ],
      "metadata": {
        "colab": {
          "base_uri": "https://localhost:8080/"
        },
        "id": "eC16_Ou7oKpA",
        "outputId": "2d9d7c8f-7c1a-4fd9-d1f2-0edef90c35ba"
      },
      "execution_count": null,
      "outputs": [
        {
          "output_type": "stream",
          "name": "stdout",
          "text": [
            "Epoch 1/100\n",
            "76/76 [==============================] - 959s 3s/step - loss: 6.5155 - accuracy: 0.5763 - val_loss: 0.6973 - val_accuracy: 0.7970\n",
            "Epoch 2/100\n",
            "76/76 [==============================] - 14s 188ms/step - loss: 1.1171 - accuracy: 0.6719 - val_loss: 0.5894 - val_accuracy: 0.6749\n",
            "Epoch 3/100\n",
            "76/76 [==============================] - 14s 187ms/step - loss: 0.5951 - accuracy: 0.7214 - val_loss: 0.4489 - val_accuracy: 0.7987\n",
            "Epoch 4/100\n",
            "76/76 [==============================] - 14s 187ms/step - loss: 0.5298 - accuracy: 0.7564 - val_loss: 0.4460 - val_accuracy: 0.7987\n",
            "Epoch 5/100\n",
            "76/76 [==============================] - 14s 186ms/step - loss: 0.5543 - accuracy: 0.7193 - val_loss: 0.6107 - val_accuracy: 0.6551\n",
            "Epoch 6/100\n",
            "76/76 [==============================] - 14s 186ms/step - loss: 0.5143 - accuracy: 0.7560 - val_loss: 0.4657 - val_accuracy: 0.7921\n",
            "Epoch 7/100\n",
            "76/76 [==============================] - 14s 187ms/step - loss: 0.5137 - accuracy: 0.7531 - val_loss: 0.4605 - val_accuracy: 0.8069\n",
            "Epoch 8/100\n",
            "76/76 [==============================] - 14s 188ms/step - loss: 0.4930 - accuracy: 0.7671 - val_loss: 0.4291 - val_accuracy: 0.8102\n",
            "Epoch 9/100\n",
            "76/76 [==============================] - 14s 188ms/step - loss: 0.4892 - accuracy: 0.7667 - val_loss: 0.4362 - val_accuracy: 0.8036\n",
            "Epoch 10/100\n",
            "76/76 [==============================] - 14s 186ms/step - loss: 0.4688 - accuracy: 0.7873 - val_loss: 0.4215 - val_accuracy: 0.8284\n",
            "Epoch 11/100\n",
            "76/76 [==============================] - 14s 186ms/step - loss: 0.4866 - accuracy: 0.7675 - val_loss: 0.4096 - val_accuracy: 0.8086\n",
            "Epoch 12/100\n",
            "76/76 [==============================] - 14s 187ms/step - loss: 0.4485 - accuracy: 0.7869 - val_loss: 0.4413 - val_accuracy: 0.8152\n",
            "Epoch 13/100\n",
            "76/76 [==============================] - 14s 187ms/step - loss: 0.4614 - accuracy: 0.7865 - val_loss: 0.4033 - val_accuracy: 0.8333\n",
            "Epoch 14/100\n",
            "76/76 [==============================] - 14s 186ms/step - loss: 0.4672 - accuracy: 0.7754 - val_loss: 0.4126 - val_accuracy: 0.8267\n",
            "Epoch 15/100\n",
            "76/76 [==============================] - 14s 187ms/step - loss: 0.4506 - accuracy: 0.7943 - val_loss: 0.4108 - val_accuracy: 0.8284\n",
            "Epoch 16/100\n",
            "76/76 [==============================] - 14s 188ms/step - loss: 0.4518 - accuracy: 0.7762 - val_loss: 0.4338 - val_accuracy: 0.8020\n",
            "Epoch 17/100\n",
            "76/76 [==============================] - 14s 186ms/step - loss: 0.4869 - accuracy: 0.7580 - val_loss: 0.3928 - val_accuracy: 0.8399\n",
            "Epoch 18/100\n",
            "76/76 [==============================] - 14s 186ms/step - loss: 0.4716 - accuracy: 0.7659 - val_loss: 0.4206 - val_accuracy: 0.8267\n",
            "Epoch 19/100\n",
            "76/76 [==============================] - 14s 187ms/step - loss: 0.4733 - accuracy: 0.7556 - val_loss: 0.4097 - val_accuracy: 0.8267\n",
            "Epoch 20/100\n",
            "76/76 [==============================] - 14s 188ms/step - loss: 0.4841 - accuracy: 0.7572 - val_loss: 0.4285 - val_accuracy: 0.8317\n",
            "Epoch 21/100\n",
            "76/76 [==============================] - 14s 187ms/step - loss: 0.4915 - accuracy: 0.7506 - val_loss: 0.4343 - val_accuracy: 0.8333\n",
            "Epoch 22/100\n",
            "76/76 [==============================] - 14s 186ms/step - loss: 0.4879 - accuracy: 0.7609 - val_loss: 0.4991 - val_accuracy: 0.8168\n",
            "Epoch 23/100\n",
            "76/76 [==============================] - 14s 185ms/step - loss: 0.4712 - accuracy: 0.7737 - val_loss: 0.4143 - val_accuracy: 0.8218\n",
            "Epoch 24/100\n",
            "76/76 [==============================] - 14s 187ms/step - loss: 0.4707 - accuracy: 0.7585 - val_loss: 0.3825 - val_accuracy: 0.8482\n",
            "Epoch 25/100\n",
            "76/76 [==============================] - 14s 188ms/step - loss: 0.4840 - accuracy: 0.7465 - val_loss: 0.4172 - val_accuracy: 0.8168\n",
            "Epoch 26/100\n",
            "76/76 [==============================] - 14s 187ms/step - loss: 0.4936 - accuracy: 0.7420 - val_loss: 0.3913 - val_accuracy: 0.8515\n",
            "Epoch 27/100\n",
            "76/76 [==============================] - 14s 186ms/step - loss: 0.4728 - accuracy: 0.7341 - val_loss: 0.3915 - val_accuracy: 0.8251\n",
            "Epoch 28/100\n",
            "76/76 [==============================] - 14s 186ms/step - loss: 0.4761 - accuracy: 0.7477 - val_loss: 0.4039 - val_accuracy: 0.8185\n",
            "Epoch 29/100\n",
            "76/76 [==============================] - 14s 185ms/step - loss: 0.4646 - accuracy: 0.7531 - val_loss: 0.4295 - val_accuracy: 0.8300\n",
            "Epoch 30/100\n",
            "76/76 [==============================] - 14s 187ms/step - loss: 0.4791 - accuracy: 0.7572 - val_loss: 0.4096 - val_accuracy: 0.8267\n",
            "Epoch 31/100\n",
            "76/76 [==============================] - 14s 187ms/step - loss: 0.5004 - accuracy: 0.7259 - val_loss: 0.3754 - val_accuracy: 0.8432\n",
            "Epoch 32/100\n",
            "76/76 [==============================] - 14s 186ms/step - loss: 0.4676 - accuracy: 0.7469 - val_loss: 0.3739 - val_accuracy: 0.8449\n",
            "Epoch 33/100\n",
            "76/76 [==============================] - 14s 187ms/step - loss: 0.4813 - accuracy: 0.7420 - val_loss: 0.4042 - val_accuracy: 0.8416\n",
            "Epoch 34/100\n",
            "76/76 [==============================] - 14s 188ms/step - loss: 0.4855 - accuracy: 0.7486 - val_loss: 0.3681 - val_accuracy: 0.8531\n",
            "Epoch 35/100\n",
            "76/76 [==============================] - 14s 186ms/step - loss: 0.4857 - accuracy: 0.7255 - val_loss: 0.4185 - val_accuracy: 0.8086\n",
            "Epoch 36/100\n",
            "76/76 [==============================] - 14s 186ms/step - loss: 0.4827 - accuracy: 0.7428 - val_loss: 0.3628 - val_accuracy: 0.8449\n",
            "Epoch 37/100\n",
            "76/76 [==============================] - 14s 186ms/step - loss: 0.4664 - accuracy: 0.7655 - val_loss: 0.3864 - val_accuracy: 0.8267\n",
            "Epoch 38/100\n",
            "76/76 [==============================] - 14s 186ms/step - loss: 0.4593 - accuracy: 0.7601 - val_loss: 0.4288 - val_accuracy: 0.8465\n",
            "Epoch 39/100\n",
            "76/76 [==============================] - 14s 186ms/step - loss: 0.5202 - accuracy: 0.7383 - val_loss: 0.4175 - val_accuracy: 0.8218\n",
            "Epoch 40/100\n",
            "76/76 [==============================] - 14s 186ms/step - loss: 0.5176 - accuracy: 0.6896 - val_loss: 0.4010 - val_accuracy: 0.8366\n",
            "Epoch 41/100\n",
            "76/76 [==============================] - 14s 187ms/step - loss: 0.5477 - accuracy: 0.6298 - val_loss: 0.4328 - val_accuracy: 0.8300\n",
            "Epoch 42/100\n",
            "76/76 [==============================] - 14s 187ms/step - loss: 0.5055 - accuracy: 0.6814 - val_loss: 0.4033 - val_accuracy: 0.8317\n",
            "Epoch 43/100\n",
            "76/76 [==============================] - 14s 187ms/step - loss: 0.5028 - accuracy: 0.6933 - val_loss: 0.4631 - val_accuracy: 0.7607\n",
            "Epoch 44/100\n",
            "76/76 [==============================] - 14s 187ms/step - loss: 0.5108 - accuracy: 0.6892 - val_loss: 0.4133 - val_accuracy: 0.8102\n",
            "Epoch 45/100\n",
            "76/76 [==============================] - 14s 186ms/step - loss: 0.4948 - accuracy: 0.6904 - val_loss: 0.3778 - val_accuracy: 0.8548\n",
            "Epoch 46/100\n",
            "76/76 [==============================] - 14s 187ms/step - loss: 0.5035 - accuracy: 0.6855 - val_loss: 0.4504 - val_accuracy: 0.7789\n",
            "Epoch 47/100\n",
            "76/76 [==============================] - 14s 187ms/step - loss: 0.4997 - accuracy: 0.6925 - val_loss: 0.3613 - val_accuracy: 0.8498\n",
            "Epoch 48/100\n",
            "76/76 [==============================] - 14s 186ms/step - loss: 0.4941 - accuracy: 0.6814 - val_loss: 0.3793 - val_accuracy: 0.8515\n",
            "Epoch 49/100\n",
            "76/76 [==============================] - 14s 186ms/step - loss: 0.4877 - accuracy: 0.6851 - val_loss: 0.3960 - val_accuracy: 0.8399\n",
            "Epoch 50/100\n",
            "76/76 [==============================] - 14s 185ms/step - loss: 0.4928 - accuracy: 0.6863 - val_loss: 0.4100 - val_accuracy: 0.7954\n",
            "Epoch 51/100\n",
            "76/76 [==============================] - 14s 187ms/step - loss: 0.4913 - accuracy: 0.6748 - val_loss: 0.3830 - val_accuracy: 0.8399\n",
            "Epoch 52/100\n",
            "76/76 [==============================] - 14s 188ms/step - loss: 0.5016 - accuracy: 0.6715 - val_loss: 0.4182 - val_accuracy: 0.8069\n",
            "Epoch 53/100\n",
            "76/76 [==============================] - 14s 186ms/step - loss: 0.4995 - accuracy: 0.6744 - val_loss: 0.5254 - val_accuracy: 0.8135\n",
            "Epoch 54/100\n",
            "76/76 [==============================] - 14s 187ms/step - loss: 0.5170 - accuracy: 0.6999 - val_loss: 0.4315 - val_accuracy: 0.8449\n",
            "Epoch 55/100\n",
            "76/76 [==============================] - 14s 186ms/step - loss: 0.4986 - accuracy: 0.6991 - val_loss: 0.4017 - val_accuracy: 0.8251\n",
            "Epoch 56/100\n",
            "76/76 [==============================] - 14s 187ms/step - loss: 0.4802 - accuracy: 0.7098 - val_loss: 0.3895 - val_accuracy: 0.8482\n",
            "Epoch 57/100\n",
            "76/76 [==============================] - 14s 188ms/step - loss: 0.4826 - accuracy: 0.7045 - val_loss: 0.3675 - val_accuracy: 0.8449\n",
            "Epoch 58/100\n",
            "76/76 [==============================] - 14s 186ms/step - loss: 0.4947 - accuracy: 0.7049 - val_loss: 0.4027 - val_accuracy: 0.8531\n",
            "Epoch 59/100\n",
            "76/76 [==============================] - 14s 187ms/step - loss: 0.4745 - accuracy: 0.7139 - val_loss: 0.3800 - val_accuracy: 0.8531\n",
            "Epoch 60/100\n",
            "76/76 [==============================] - 14s 187ms/step - loss: 0.4757 - accuracy: 0.7135 - val_loss: 0.3978 - val_accuracy: 0.8597\n",
            "Epoch 61/100\n",
            "76/76 [==============================] - 14s 187ms/step - loss: 0.4903 - accuracy: 0.7020 - val_loss: 0.3947 - val_accuracy: 0.8383\n",
            "Epoch 62/100\n",
            "76/76 [==============================] - 14s 187ms/step - loss: 0.4768 - accuracy: 0.7135 - val_loss: 0.3818 - val_accuracy: 0.8647\n",
            "Epoch 63/100\n",
            "76/76 [==============================] - 14s 187ms/step - loss: 0.4825 - accuracy: 0.6805 - val_loss: 0.4364 - val_accuracy: 0.8069\n",
            "Epoch 64/100\n",
            "76/76 [==============================] - 14s 187ms/step - loss: 0.4932 - accuracy: 0.6838 - val_loss: 0.3894 - val_accuracy: 0.8251\n",
            "Epoch 65/100\n",
            "76/76 [==============================] - 14s 186ms/step - loss: 0.4815 - accuracy: 0.6867 - val_loss: 0.3760 - val_accuracy: 0.8482\n",
            "Epoch 66/100\n",
            "76/76 [==============================] - 14s 187ms/step - loss: 0.4964 - accuracy: 0.6867 - val_loss: 0.4090 - val_accuracy: 0.8135\n",
            "Epoch 67/100\n",
            "76/76 [==============================] - 14s 188ms/step - loss: 0.5068 - accuracy: 0.6669 - val_loss: 0.3574 - val_accuracy: 0.8218\n",
            "Epoch 68/100\n",
            "76/76 [==============================] - 14s 186ms/step - loss: 0.4942 - accuracy: 0.6826 - val_loss: 0.4388 - val_accuracy: 0.8465\n",
            "Epoch 69/100\n",
            "76/76 [==============================] - 14s 188ms/step - loss: 0.4839 - accuracy: 0.7003 - val_loss: 0.3886 - val_accuracy: 0.8366\n",
            "Epoch 70/100\n",
            "76/76 [==============================] - 14s 187ms/step - loss: 0.4899 - accuracy: 0.7049 - val_loss: 0.4209 - val_accuracy: 0.8399\n",
            "Epoch 71/100\n",
            "76/76 [==============================] - 14s 187ms/step - loss: 0.4779 - accuracy: 0.6987 - val_loss: 0.4804 - val_accuracy: 0.8185\n",
            "Epoch 72/100\n",
            "76/76 [==============================] - 14s 186ms/step - loss: 0.4823 - accuracy: 0.6979 - val_loss: 0.3708 - val_accuracy: 0.8300\n",
            "Epoch 73/100\n",
            "76/76 [==============================] - 14s 187ms/step - loss: 0.5069 - accuracy: 0.6702 - val_loss: 0.3735 - val_accuracy: 0.8498\n",
            "Epoch 74/100\n",
            "76/76 [==============================] - 14s 188ms/step - loss: 0.5090 - accuracy: 0.6867 - val_loss: 0.4386 - val_accuracy: 0.8234\n",
            "Epoch 75/100\n",
            "76/76 [==============================] - 14s 187ms/step - loss: 0.4861 - accuracy: 0.6896 - val_loss: 0.3756 - val_accuracy: 0.8366\n",
            "Epoch 76/100\n",
            "76/76 [==============================] - 14s 186ms/step - loss: 0.4982 - accuracy: 0.6768 - val_loss: 0.3903 - val_accuracy: 0.8234\n",
            "Epoch 77/100\n",
            "76/76 [==============================] - 14s 186ms/step - loss: 0.4814 - accuracy: 0.6954 - val_loss: 0.3423 - val_accuracy: 0.8416\n",
            "Epoch 78/100\n",
            "76/76 [==============================] - 14s 187ms/step - loss: 0.5005 - accuracy: 0.6814 - val_loss: 0.4354 - val_accuracy: 0.7970\n",
            "Epoch 79/100\n",
            "76/76 [==============================] - 14s 187ms/step - loss: 0.5007 - accuracy: 0.6764 - val_loss: 0.3928 - val_accuracy: 0.8432\n",
            "Epoch 80/100\n",
            "76/76 [==============================] - 14s 187ms/step - loss: 0.4904 - accuracy: 0.6958 - val_loss: 0.3800 - val_accuracy: 0.8498\n",
            "Epoch 81/100\n",
            "76/76 [==============================] - 14s 187ms/step - loss: 0.4881 - accuracy: 0.7020 - val_loss: 0.4089 - val_accuracy: 0.8366\n",
            "Epoch 82/100\n",
            "12/76 [===>..........................] - ETA: 9s - loss: 0.5075 - accuracy: 0.6901"
          ]
        }
      ]
    }
  ]
}