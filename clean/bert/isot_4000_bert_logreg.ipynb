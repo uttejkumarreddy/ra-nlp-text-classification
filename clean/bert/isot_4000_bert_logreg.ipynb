{
  "nbformat": 4,
  "nbformat_minor": 0,
  "metadata": {
    "colab": {
      "provenance": []
    },
    "kernelspec": {
      "name": "python3",
      "display_name": "Python 3"
    },
    "language_info": {
      "name": "python"
    },
    "accelerator": "GPU",
    "gpuClass": "standard"
  },
  "cells": [
    {
      "cell_type": "code",
      "execution_count": 1,
      "metadata": {
        "colab": {
          "base_uri": "https://localhost:8080/"
        },
        "id": "DJp1hjfog_6Z",
        "outputId": "2c25c8f0-43ed-42fc-b111-bdf9545976a7"
      },
      "outputs": [
        {
          "output_type": "stream",
          "name": "stdout",
          "text": [
            "Mounted at /content/drive\n"
          ]
        }
      ],
      "source": [
        "from google.colab import drive\n",
        "drive.mount('/content/drive')"
      ]
    },
    {
      "cell_type": "code",
      "source": [
        "import matplotlib.pyplot as plt\n",
        "import numpy as np\n",
        "import PIL\n",
        "import tensorflow as tf\n",
        "\n",
        "import pathlib\n",
        "\n",
        "from tensorflow import keras\n",
        "from tensorflow.keras import layers\n",
        "from tensorflow.keras.models import Sequential"
      ],
      "metadata": {
        "id": "0yLPB5FNhHhC"
      },
      "execution_count": 4,
      "outputs": []
    },
    {
      "cell_type": "code",
      "source": [
        "DATASET_LOCATION = '/content/drive/MyDrive/ai-playground/ra-text-classification-spectrogram/spectrograms/bert-isot4000'\n",
        "data_dir = pathlib.Path(DATASET_LOCATION)"
      ],
      "metadata": {
        "id": "UI6QxXeChLc1"
      },
      "execution_count": 5,
      "outputs": []
    },
    {
      "cell_type": "code",
      "source": [
        "TRAIN_FRACTION = 0.8\n",
        "batch_size = 32 # default batch size of data\n",
        "img_height = 224 # default height to which image is resized\n",
        "img_width = 224 # default width to which image is resized\n",
        "seed = 2022 # random seed for shuffling and transformations"
      ],
      "metadata": {
        "id": "uK-fi5fGhQAE"
      },
      "execution_count": 6,
      "outputs": []
    },
    {
      "cell_type": "code",
      "source": [
        "ds_train = tf.keras.utils.image_dataset_from_directory(\n",
        "  data_dir,\n",
        "  validation_split = 1 - TRAIN_FRACTION,\n",
        "  subset = \"training\",\n",
        "  seed = seed,\n",
        "  image_size = (img_height, img_width),\n",
        "  batch_size = batch_size)"
      ],
      "metadata": {
        "colab": {
          "base_uri": "https://localhost:8080/"
        },
        "id": "GxQ51Rgdhl3E",
        "outputId": "6113a737-981c-434f-af60-50225fd4bb09"
      },
      "execution_count": 7,
      "outputs": [
        {
          "output_type": "stream",
          "name": "stdout",
          "text": [
            "Found 2983 files belonging to 2 classes.\n",
            "Using 2387 files for training.\n"
          ]
        }
      ]
    },
    {
      "cell_type": "code",
      "source": [
        "ds_val = tf.keras.utils.image_dataset_from_directory(\n",
        "  data_dir,\n",
        "  validation_split = 1 - TRAIN_FRACTION,\n",
        "  subset = \"validation\",\n",
        "  seed = seed,\n",
        "  image_size = (img_height, img_width),\n",
        "  batch_size = batch_size)"
      ],
      "metadata": {
        "colab": {
          "base_uri": "https://localhost:8080/"
        },
        "id": "dlGfqoFhhpB8",
        "outputId": "c68798ed-505b-4227-9709-f6f55c594af7"
      },
      "execution_count": 8,
      "outputs": [
        {
          "output_type": "stream",
          "name": "stdout",
          "text": [
            "Found 2983 files belonging to 2 classes.\n",
            "Using 596 files for validation.\n"
          ]
        }
      ]
    },
    {
      "cell_type": "code",
      "source": [
        "AUTOTUNE = tf.data.AUTOTUNE\n",
        "\n",
        "train_ds = ds_train.cache().shuffle(1000).prefetch(buffer_size=AUTOTUNE)\n",
        "val_ds = ds_val.cache().prefetch(buffer_size=AUTOTUNE)"
      ],
      "metadata": {
        "id": "D87tLTSGhQnV"
      },
      "execution_count": 9,
      "outputs": []
    },
    {
      "cell_type": "code",
      "source": [
        "normalization_layer = layers.Rescaling(1./255)\n"
      ],
      "metadata": {
        "id": "UYbSwiVEhiWk"
      },
      "execution_count": 10,
      "outputs": []
    },
    {
      "cell_type": "code",
      "source": [
        "normalized_ds = train_ds.map(lambda x, y: (normalization_layer(x), y))\n",
        "image_batch, labels_batch = next(iter(normalized_ds))\n",
        "first_image = image_batch[0]\n",
        "# Notice the pixel values are now in `[0,1]`.\n",
        "print(np.min(first_image), np.max(first_image))"
      ],
      "metadata": {
        "colab": {
          "base_uri": "https://localhost:8080/"
        },
        "id": "wL1MpjechyQ0",
        "outputId": "064a3d70-691c-44a8-e3ac-4c94b099045a"
      },
      "execution_count": 11,
      "outputs": [
        {
          "output_type": "stream",
          "name": "stdout",
          "text": [
            "0.051980887 1.0\n"
          ]
        }
      ]
    },
    {
      "cell_type": "code",
      "source": [
        "class_names = ds_train.class_names\n",
        "num_classes = len(class_names)\n",
        "print(class_names)"
      ],
      "metadata": {
        "colab": {
          "base_uri": "https://localhost:8080/"
        },
        "id": "O8g71ZbTh7Tc",
        "outputId": "77822c54-a928-4e81-f4b6-794a8334bc83"
      },
      "execution_count": 12,
      "outputs": [
        {
          "output_type": "stream",
          "name": "stdout",
          "text": [
            "['Fake', 'True']\n"
          ]
        }
      ]
    },
    {
      "cell_type": "code",
      "source": [
        "model = Sequential([\n",
        "  layers.Rescaling(1./255, input_shape=(img_height, img_width, 3)),\n",
        "  layers.Conv2D(16, 3, padding='same', activation='relu'),\n",
        "  layers.MaxPooling2D(),\n",
        "  layers.Conv2D(32, 3, padding='same', activation='relu'),\n",
        "  layers.MaxPooling2D(),\n",
        "  layers.Conv2D(64, 3, padding='same', activation='relu'),\n",
        "  layers.MaxPooling2D(),\n",
        "  layers.Flatten(),\n",
        "  layers.Dense(128, activation='relu'),\n",
        "  layers.Dense(1, activation='sigmoid')\n",
        "])"
      ],
      "metadata": {
        "id": "8wWBDE-dh1f0"
      },
      "execution_count": 13,
      "outputs": []
    },
    {
      "cell_type": "code",
      "source": [
        "model.compile(optimizer='adam',\n",
        "              loss=tf.keras.losses.binary_crossentropy,\n",
        "              metrics=['accuracy'],)"
      ],
      "metadata": {
        "id": "J_s_hlbniFaV"
      },
      "execution_count": 14,
      "outputs": []
    },
    {
      "cell_type": "code",
      "source": [
        "epochs=100\n",
        "history = model.fit(\n",
        "  train_ds,\n",
        "  validation_data=val_ds,\n",
        "  epochs=epochs\n",
        ")"
      ],
      "metadata": {
        "colab": {
          "base_uri": "https://localhost:8080/"
        },
        "id": "A_pNDxayiQgV",
        "outputId": "3ad3956c-a81a-40b3-ad90-c8d3907cb52c"
      },
      "execution_count": null,
      "outputs": [
        {
          "output_type": "stream",
          "name": "stdout",
          "text": [
            "Epoch 1/100\n",
            "75/75 [==============================] - 170s 2s/step - loss: 0.7758 - accuracy: 0.5450 - val_loss: 0.6746 - val_accuracy: 0.4664\n",
            "Epoch 2/100\n",
            "75/75 [==============================] - 124s 2s/step - loss: 0.4734 - accuracy: 0.7796 - val_loss: 0.3317 - val_accuracy: 0.8540\n",
            "Epoch 3/100\n",
            "75/75 [==============================] - 121s 2s/step - loss: 0.2731 - accuracy: 0.8923 - val_loss: 0.2270 - val_accuracy: 0.9128\n",
            "Epoch 4/100\n",
            "75/75 [==============================] - 120s 2s/step - loss: 0.1950 - accuracy: 0.9212 - val_loss: 0.2218 - val_accuracy: 0.9178\n",
            "Epoch 5/100\n",
            "75/75 [==============================] - 119s 2s/step - loss: 0.1761 - accuracy: 0.9305 - val_loss: 0.1811 - val_accuracy: 0.9379\n",
            "Epoch 6/100\n",
            "75/75 [==============================] - 121s 2s/step - loss: 0.1527 - accuracy: 0.9422 - val_loss: 0.1627 - val_accuracy: 0.9430\n",
            "Epoch 7/100\n",
            "75/75 [==============================] - 121s 2s/step - loss: 0.1594 - accuracy: 0.9372 - val_loss: 0.1809 - val_accuracy: 0.9346\n",
            "Epoch 8/100\n",
            "75/75 [==============================] - 121s 2s/step - loss: 0.1262 - accuracy: 0.9552 - val_loss: 0.1553 - val_accuracy: 0.9513\n",
            "Epoch 9/100\n",
            "75/75 [==============================] - 122s 2s/step - loss: 0.1263 - accuracy: 0.9552 - val_loss: 0.1508 - val_accuracy: 0.9480\n",
            "Epoch 10/100\n",
            "75/75 [==============================] - 122s 2s/step - loss: 0.1048 - accuracy: 0.9619 - val_loss: 0.1643 - val_accuracy: 0.9413\n",
            "Epoch 11/100\n",
            "75/75 [==============================] - 123s 2s/step - loss: 0.1174 - accuracy: 0.9556 - val_loss: 0.1840 - val_accuracy: 0.9195\n",
            "Epoch 12/100\n",
            "75/75 [==============================] - 126s 2s/step - loss: 0.1052 - accuracy: 0.9598 - val_loss: 0.1608 - val_accuracy: 0.9463\n",
            "Epoch 13/100\n",
            "75/75 [==============================] - 122s 2s/step - loss: 0.1084 - accuracy: 0.9602 - val_loss: 0.1487 - val_accuracy: 0.9530\n",
            "Epoch 14/100\n",
            "75/75 [==============================] - 120s 2s/step - loss: 0.0950 - accuracy: 0.9661 - val_loss: 0.1969 - val_accuracy: 0.9346\n",
            "Epoch 15/100\n",
            "75/75 [==============================] - 122s 2s/step - loss: 0.0861 - accuracy: 0.9719 - val_loss: 0.1536 - val_accuracy: 0.9513\n",
            "Epoch 16/100\n",
            "75/75 [==============================] - 122s 2s/step - loss: 0.0906 - accuracy: 0.9673 - val_loss: 0.1527 - val_accuracy: 0.9597\n",
            "Epoch 17/100\n",
            "75/75 [==============================] - 123s 2s/step - loss: 0.0858 - accuracy: 0.9698 - val_loss: 0.1636 - val_accuracy: 0.9547\n",
            "Epoch 18/100\n",
            "75/75 [==============================] - 125s 2s/step - loss: 0.0677 - accuracy: 0.9765 - val_loss: 0.1719 - val_accuracy: 0.9480\n",
            "Epoch 19/100\n",
            "75/75 [==============================] - 122s 2s/step - loss: 0.0705 - accuracy: 0.9761 - val_loss: 0.1659 - val_accuracy: 0.9446\n",
            "Epoch 20/100\n",
            "75/75 [==============================] - 121s 2s/step - loss: 0.0738 - accuracy: 0.9703 - val_loss: 0.3291 - val_accuracy: 0.8842\n",
            "Epoch 21/100\n",
            "75/75 [==============================] - 122s 2s/step - loss: 0.0654 - accuracy: 0.9786 - val_loss: 0.1770 - val_accuracy: 0.9497\n",
            "Epoch 22/100\n",
            "75/75 [==============================] - 121s 2s/step - loss: 0.0571 - accuracy: 0.9778 - val_loss: 0.1812 - val_accuracy: 0.9513\n",
            "Epoch 23/100\n",
            "75/75 [==============================] - 121s 2s/step - loss: 0.0639 - accuracy: 0.9749 - val_loss: 0.2138 - val_accuracy: 0.9379\n",
            "Epoch 24/100\n",
            "75/75 [==============================] - 120s 2s/step - loss: 0.0500 - accuracy: 0.9807 - val_loss: 0.1921 - val_accuracy: 0.9463\n",
            "Epoch 25/100\n",
            "75/75 [==============================] - 118s 2s/step - loss: 0.0624 - accuracy: 0.9757 - val_loss: 0.1534 - val_accuracy: 0.9631\n",
            "Epoch 26/100\n",
            "75/75 [==============================] - 120s 2s/step - loss: 0.0640 - accuracy: 0.9774 - val_loss: 0.1993 - val_accuracy: 0.9463\n",
            "Epoch 27/100\n",
            "75/75 [==============================] - 120s 2s/step - loss: 0.0516 - accuracy: 0.9803 - val_loss: 0.1911 - val_accuracy: 0.9547\n",
            "Epoch 28/100\n",
            "75/75 [==============================] - 122s 2s/step - loss: 0.0447 - accuracy: 0.9820 - val_loss: 0.2299 - val_accuracy: 0.9346\n",
            "Epoch 29/100\n",
            " 1/75 [..............................] - ETA: 1:52 - loss: 0.0680 - accuracy: 0.9688"
          ]
        }
      ]
    },
    {
      "cell_type": "code",
      "source": [
        "from matplotlib import pyplot as plt\n",
        "\n",
        "plt.plot(history.history['accuracy'])\n",
        "plt.plot(history.history['val_accuracy'])\n",
        "plt.title('vgg 16 model accuracy')\n",
        "plt.ylabel('accuracy')\n",
        "plt.xlabel('epoch')\n",
        "plt.legend(['train', 'val'], loc='upper left')\n",
        "plt.show()"
      ],
      "metadata": {
        "colab": {
          "base_uri": "https://localhost:8080/",
          "height": 235
        },
        "id": "i3UoAw-7iyng",
        "outputId": "39dcc79d-1049-4812-b910-ef664bdcd900"
      },
      "execution_count": null,
      "outputs": [
        {
          "output_type": "error",
          "ename": "NameError",
          "evalue": "ignored",
          "traceback": [
            "\u001b[0;31m---------------------------------------------------------------------------\u001b[0m",
            "\u001b[0;31mNameError\u001b[0m                                 Traceback (most recent call last)",
            "\u001b[0;32m<ipython-input-22-adfe483334ec>\u001b[0m in \u001b[0;36m<module>\u001b[0;34m\u001b[0m\n\u001b[1;32m      1\u001b[0m \u001b[0;32mfrom\u001b[0m \u001b[0mmatplotlib\u001b[0m \u001b[0;32mimport\u001b[0m \u001b[0mpyplot\u001b[0m \u001b[0;32mas\u001b[0m \u001b[0mplt\u001b[0m\u001b[0;34m\u001b[0m\u001b[0;34m\u001b[0m\u001b[0m\n\u001b[1;32m      2\u001b[0m \u001b[0;34m\u001b[0m\u001b[0m\n\u001b[0;32m----> 3\u001b[0;31m \u001b[0mplt\u001b[0m\u001b[0;34m.\u001b[0m\u001b[0mplot\u001b[0m\u001b[0;34m(\u001b[0m\u001b[0mhistory\u001b[0m\u001b[0;34m.\u001b[0m\u001b[0mhistory\u001b[0m\u001b[0;34m[\u001b[0m\u001b[0;34m'accuracy'\u001b[0m\u001b[0;34m]\u001b[0m\u001b[0;34m)\u001b[0m\u001b[0;34m\u001b[0m\u001b[0;34m\u001b[0m\u001b[0m\n\u001b[0m\u001b[1;32m      4\u001b[0m \u001b[0mplt\u001b[0m\u001b[0;34m.\u001b[0m\u001b[0mplot\u001b[0m\u001b[0;34m(\u001b[0m\u001b[0mhistory\u001b[0m\u001b[0;34m.\u001b[0m\u001b[0mhistory\u001b[0m\u001b[0;34m[\u001b[0m\u001b[0;34m'val_accuracy'\u001b[0m\u001b[0;34m]\u001b[0m\u001b[0;34m)\u001b[0m\u001b[0;34m\u001b[0m\u001b[0;34m\u001b[0m\u001b[0m\n\u001b[1;32m      5\u001b[0m \u001b[0mplt\u001b[0m\u001b[0;34m.\u001b[0m\u001b[0mtitle\u001b[0m\u001b[0;34m(\u001b[0m\u001b[0;34m'vgg 16 model accuracy'\u001b[0m\u001b[0;34m)\u001b[0m\u001b[0;34m\u001b[0m\u001b[0;34m\u001b[0m\u001b[0m\n",
            "\u001b[0;31mNameError\u001b[0m: name 'history' is not defined"
          ]
        }
      ]
    },
    {
      "cell_type": "code",
      "source": [],
      "metadata": {
        "id": "gW4kGbPKp0-N"
      },
      "execution_count": null,
      "outputs": []
    }
  ]
}