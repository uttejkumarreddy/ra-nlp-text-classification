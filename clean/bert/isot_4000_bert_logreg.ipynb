{
  "nbformat": 4,
  "nbformat_minor": 0,
  "metadata": {
    "colab": {
      "provenance": []
    },
    "kernelspec": {
      "name": "python3",
      "display_name": "Python 3"
    },
    "language_info": {
      "name": "python"
    },
    "accelerator": "GPU",
    "gpuClass": "standard"
  },
  "cells": [
    {
      "cell_type": "code",
      "execution_count": 1,
      "metadata": {
        "colab": {
          "base_uri": "https://localhost:8080/"
        },
        "id": "DJp1hjfog_6Z",
        "outputId": "380365bf-7494-411d-87a0-c761274659cb"
      },
      "outputs": [
        {
          "output_type": "stream",
          "name": "stdout",
          "text": [
            "Drive already mounted at /content/drive; to attempt to forcibly remount, call drive.mount(\"/content/drive\", force_remount=True).\n"
          ]
        }
      ],
      "source": [
        "from google.colab import drive\n",
        "drive.mount('/content/drive')"
      ]
    },
    {
      "cell_type": "code",
      "source": [
        "import matplotlib.pyplot as plt\n",
        "import numpy as np\n",
        "import PIL\n",
        "import tensorflow as tf\n",
        "\n",
        "import pathlib\n",
        "\n",
        "from tensorflow import keras\n",
        "from tensorflow.keras import layers\n",
        "from tensorflow.keras.models import Sequential"
      ],
      "metadata": {
        "id": "0yLPB5FNhHhC"
      },
      "execution_count": 2,
      "outputs": []
    },
    {
      "cell_type": "code",
      "source": [
        "DATASET_LOCATION = '/content/drive/MyDrive/ai-playground/ra-text-classification-spectrogram/spectrograms/bert-isot4000'\n",
        "data_dir = pathlib.Path(DATASET_LOCATION)"
      ],
      "metadata": {
        "id": "UI6QxXeChLc1"
      },
      "execution_count": 3,
      "outputs": []
    },
    {
      "cell_type": "code",
      "source": [
        "TRAIN_FRACTION = 0.7\n",
        "batch_size = 32 # default batch size of data\n",
        "img_height = 224 # default height to which image is resized\n",
        "img_width = 224 # default width to which image is resized\n",
        "seed = 2022 # random seed for shuffling and transformations"
      ],
      "metadata": {
        "id": "uK-fi5fGhQAE"
      },
      "execution_count": 4,
      "outputs": []
    },
    {
      "cell_type": "code",
      "source": [
        "ds_train = tf.keras.utils.image_dataset_from_directory(\n",
        "  data_dir,\n",
        "  validation_split = 1 - TRAIN_FRACTION,\n",
        "  subset = \"training\",\n",
        "  seed = seed,\n",
        "  image_size = (img_height, img_width),\n",
        "  batch_size = batch_size)"
      ],
      "metadata": {
        "colab": {
          "base_uri": "https://localhost:8080/"
        },
        "id": "GxQ51Rgdhl3E",
        "outputId": "90d20b3b-2f05-45c5-b26c-c22b234287d7"
      },
      "execution_count": 5,
      "outputs": [
        {
          "output_type": "stream",
          "name": "stdout",
          "text": [
            "Found 3032 files belonging to 2 classes.\n",
            "Using 2123 files for training.\n"
          ]
        }
      ]
    },
    {
      "cell_type": "code",
      "source": [
        "ds_val = tf.keras.utils.image_dataset_from_directory(\n",
        "  data_dir,\n",
        "  validation_split = 1 - TRAIN_FRACTION,\n",
        "  subset = \"validation\",\n",
        "  seed = seed,\n",
        "  image_size = (img_height, img_width),\n",
        "  batch_size = batch_size)"
      ],
      "metadata": {
        "colab": {
          "base_uri": "https://localhost:8080/"
        },
        "id": "dlGfqoFhhpB8",
        "outputId": "62c1a49b-0c47-4087-816f-36ea253a1568"
      },
      "execution_count": 6,
      "outputs": [
        {
          "output_type": "stream",
          "name": "stdout",
          "text": [
            "Found 3032 files belonging to 2 classes.\n",
            "Using 909 files for validation.\n"
          ]
        }
      ]
    },
    {
      "cell_type": "code",
      "source": [
        "AUTOTUNE = tf.data.AUTOTUNE\n",
        "\n",
        "train_ds = ds_train.cache().shuffle(1000).prefetch(buffer_size=AUTOTUNE)\n",
        "val_ds = ds_val.cache().prefetch(buffer_size=AUTOTUNE)"
      ],
      "metadata": {
        "id": "D87tLTSGhQnV"
      },
      "execution_count": 7,
      "outputs": []
    },
    {
      "cell_type": "code",
      "source": [
        "normalization_layer = layers.Rescaling(1./255)\n"
      ],
      "metadata": {
        "id": "UYbSwiVEhiWk"
      },
      "execution_count": 8,
      "outputs": []
    },
    {
      "cell_type": "code",
      "source": [
        "normalized_ds = train_ds.map(lambda x, y: (normalization_layer(x), y))\n",
        "image_batch, labels_batch = next(iter(normalized_ds))\n",
        "first_image = image_batch[0]\n",
        "# Notice the pixel values are now in `[0,1]`.\n",
        "print(np.min(first_image), np.max(first_image))"
      ],
      "metadata": {
        "colab": {
          "base_uri": "https://localhost:8080/"
        },
        "id": "wL1MpjechyQ0",
        "outputId": "b7ac09fb-3ea7-4788-8e1f-99f91a3027a5"
      },
      "execution_count": 9,
      "outputs": [
        {
          "output_type": "stream",
          "name": "stdout",
          "text": [
            "0.059663963 1.0\n"
          ]
        }
      ]
    },
    {
      "cell_type": "code",
      "source": [
        "class_names = ds_train.class_names\n",
        "num_classes = len(class_names)\n",
        "print(class_names)"
      ],
      "metadata": {
        "colab": {
          "base_uri": "https://localhost:8080/"
        },
        "id": "O8g71ZbTh7Tc",
        "outputId": "46739547-d27c-472f-fd86-ad1d04ea5ea7"
      },
      "execution_count": 10,
      "outputs": [
        {
          "output_type": "stream",
          "name": "stdout",
          "text": [
            "['Fake', 'True']\n"
          ]
        }
      ]
    },
    {
      "cell_type": "code",
      "source": [
        "model = Sequential([\n",
        "  layers.Rescaling(1./255, input_shape=(img_height, img_width, 3)),\n",
        "  layers.Conv2D(16, 3, padding='same', activation='relu'),\n",
        "  layers.MaxPooling2D(),\n",
        "  layers.Conv2D(32, 3, padding='same', activation='relu'),\n",
        "  layers.MaxPooling2D(),\n",
        "  layers.Conv2D(64, 3, padding='same', activation='relu'),\n",
        "  layers.MaxPooling2D(),\n",
        "  layers.Flatten(),\n",
        "  layers.Dense(128, activation='relu'),\n",
        "  layers.Dense(1, activation='sigmoid')\n",
        "])"
      ],
      "metadata": {
        "id": "8wWBDE-dh1f0"
      },
      "execution_count": 11,
      "outputs": []
    },
    {
      "cell_type": "code",
      "source": [
        "model.compile(optimizer='adam',\n",
        "              loss=tf.keras.losses.binary_crossentropy,\n",
        "              metrics=['accuracy'])"
      ],
      "metadata": {
        "id": "J_s_hlbniFaV"
      },
      "execution_count": 12,
      "outputs": []
    },
    {
      "cell_type": "code",
      "source": [
        "epochs=100\n",
        "history = model.fit(\n",
        "  train_ds,\n",
        "  validation_data=val_ds,\n",
        "  epochs=epochs\n",
        ")"
      ],
      "metadata": {
        "colab": {
          "base_uri": "https://localhost:8080/"
        },
        "id": "A_pNDxayiQgV",
        "outputId": "b2ee293b-306f-4635-dbd6-6f4121264fd5"
      },
      "execution_count": 13,
      "outputs": [
        {
          "output_type": "stream",
          "name": "stdout",
          "text": [
            "Epoch 1/100\n",
            "67/67 [==============================] - 106s 1s/step - loss: 0.8763 - accuracy: 0.5125 - val_loss: 0.6887 - val_accuracy: 0.5259\n",
            "Epoch 2/100\n",
            "67/67 [==============================] - 3s 40ms/step - loss: 0.6813 - accuracy: 0.5662 - val_loss: 0.6396 - val_accuracy: 0.7525\n",
            "Epoch 3/100\n",
            "67/67 [==============================] - 3s 39ms/step - loss: 0.5307 - accuracy: 0.7635 - val_loss: 0.5156 - val_accuracy: 0.7360\n",
            "Epoch 4/100\n",
            "67/67 [==============================] - 3s 39ms/step - loss: 0.3140 - accuracy: 0.8752 - val_loss: 0.2358 - val_accuracy: 0.9120\n",
            "Epoch 5/100\n",
            "67/67 [==============================] - 3s 40ms/step - loss: 0.2362 - accuracy: 0.9053 - val_loss: 0.2418 - val_accuracy: 0.9032\n",
            "Epoch 6/100\n",
            "67/67 [==============================] - 3s 39ms/step - loss: 0.2202 - accuracy: 0.9157 - val_loss: 0.1933 - val_accuracy: 0.9274\n",
            "Epoch 7/100\n",
            "67/67 [==============================] - 3s 39ms/step - loss: 0.1924 - accuracy: 0.9204 - val_loss: 0.2268 - val_accuracy: 0.9208\n",
            "Epoch 8/100\n",
            "67/67 [==============================] - 3s 39ms/step - loss: 0.1763 - accuracy: 0.9369 - val_loss: 0.1708 - val_accuracy: 0.9373\n",
            "Epoch 9/100\n",
            "67/67 [==============================] - 3s 39ms/step - loss: 0.1579 - accuracy: 0.9496 - val_loss: 0.1444 - val_accuracy: 0.9483\n",
            "Epoch 10/100\n",
            "67/67 [==============================] - 3s 40ms/step - loss: 0.1456 - accuracy: 0.9487 - val_loss: 0.1381 - val_accuracy: 0.9538\n",
            "Epoch 11/100\n",
            "67/67 [==============================] - 3s 39ms/step - loss: 0.1416 - accuracy: 0.9524 - val_loss: 0.1350 - val_accuracy: 0.9571\n",
            "Epoch 12/100\n",
            "67/67 [==============================] - 3s 39ms/step - loss: 0.1208 - accuracy: 0.9590 - val_loss: 0.1215 - val_accuracy: 0.9549\n",
            "Epoch 13/100\n",
            "67/67 [==============================] - 3s 39ms/step - loss: 0.1256 - accuracy: 0.9524 - val_loss: 0.1742 - val_accuracy: 0.9373\n",
            "Epoch 14/100\n",
            "67/67 [==============================] - 3s 40ms/step - loss: 0.1213 - accuracy: 0.9614 - val_loss: 0.1372 - val_accuracy: 0.9472\n",
            "Epoch 15/100\n",
            "67/67 [==============================] - 3s 39ms/step - loss: 0.1033 - accuracy: 0.9651 - val_loss: 0.1589 - val_accuracy: 0.9428\n",
            "Epoch 16/100\n",
            "67/67 [==============================] - 3s 39ms/step - loss: 0.1107 - accuracy: 0.9623 - val_loss: 0.1140 - val_accuracy: 0.9571\n",
            "Epoch 17/100\n",
            "67/67 [==============================] - 3s 39ms/step - loss: 0.0917 - accuracy: 0.9708 - val_loss: 0.1382 - val_accuracy: 0.9494\n",
            "Epoch 18/100\n",
            "67/67 [==============================] - 3s 40ms/step - loss: 0.0807 - accuracy: 0.9746 - val_loss: 0.1165 - val_accuracy: 0.9582\n",
            "Epoch 19/100\n",
            "67/67 [==============================] - 3s 39ms/step - loss: 0.0898 - accuracy: 0.9680 - val_loss: 0.1233 - val_accuracy: 0.9527\n",
            "Epoch 20/100\n",
            "67/67 [==============================] - 3s 40ms/step - loss: 0.1155 - accuracy: 0.9600 - val_loss: 0.1718 - val_accuracy: 0.9362\n",
            "Epoch 21/100\n",
            "67/67 [==============================] - 3s 39ms/step - loss: 0.1019 - accuracy: 0.9618 - val_loss: 0.1206 - val_accuracy: 0.9571\n",
            "Epoch 22/100\n",
            "67/67 [==============================] - 3s 40ms/step - loss: 0.1063 - accuracy: 0.9576 - val_loss: 0.1932 - val_accuracy: 0.9351\n",
            "Epoch 23/100\n",
            "67/67 [==============================] - 3s 39ms/step - loss: 0.0727 - accuracy: 0.9741 - val_loss: 0.1193 - val_accuracy: 0.9593\n",
            "Epoch 24/100\n",
            "67/67 [==============================] - 3s 40ms/step - loss: 0.0780 - accuracy: 0.9717 - val_loss: 0.1219 - val_accuracy: 0.9615\n",
            "Epoch 25/100\n",
            "67/67 [==============================] - 3s 39ms/step - loss: 0.0627 - accuracy: 0.9802 - val_loss: 0.1064 - val_accuracy: 0.9593\n",
            "Epoch 26/100\n",
            "67/67 [==============================] - 3s 39ms/step - loss: 0.0662 - accuracy: 0.9769 - val_loss: 0.1600 - val_accuracy: 0.9472\n",
            "Epoch 27/100\n",
            "67/67 [==============================] - 3s 39ms/step - loss: 0.0773 - accuracy: 0.9708 - val_loss: 0.1222 - val_accuracy: 0.9582\n",
            "Epoch 28/100\n",
            "67/67 [==============================] - 3s 40ms/step - loss: 0.0840 - accuracy: 0.9708 - val_loss: 0.1589 - val_accuracy: 0.9494\n",
            "Epoch 29/100\n",
            "67/67 [==============================] - 3s 39ms/step - loss: 0.0483 - accuracy: 0.9830 - val_loss: 0.1136 - val_accuracy: 0.9593\n",
            "Epoch 30/100\n",
            "67/67 [==============================] - 3s 39ms/step - loss: 0.0376 - accuracy: 0.9878 - val_loss: 0.2005 - val_accuracy: 0.9417\n",
            "Epoch 31/100\n",
            "67/67 [==============================] - 3s 39ms/step - loss: 0.0380 - accuracy: 0.9878 - val_loss: 0.1158 - val_accuracy: 0.9659\n",
            "Epoch 32/100\n",
            "67/67 [==============================] - 3s 39ms/step - loss: 0.0367 - accuracy: 0.9887 - val_loss: 0.1276 - val_accuracy: 0.9604\n",
            "Epoch 33/100\n",
            "67/67 [==============================] - 3s 40ms/step - loss: 0.0551 - accuracy: 0.9802 - val_loss: 0.2048 - val_accuracy: 0.9439\n",
            "Epoch 34/100\n",
            "67/67 [==============================] - 3s 39ms/step - loss: 0.0404 - accuracy: 0.9854 - val_loss: 0.2096 - val_accuracy: 0.9296\n",
            "Epoch 35/100\n",
            "67/67 [==============================] - 3s 39ms/step - loss: 0.0464 - accuracy: 0.9845 - val_loss: 0.1387 - val_accuracy: 0.9615\n",
            "Epoch 36/100\n",
            "67/67 [==============================] - 3s 39ms/step - loss: 0.0346 - accuracy: 0.9873 - val_loss: 0.1360 - val_accuracy: 0.9604\n",
            "Epoch 37/100\n",
            "67/67 [==============================] - 3s 40ms/step - loss: 0.0380 - accuracy: 0.9854 - val_loss: 0.1362 - val_accuracy: 0.9538\n",
            "Epoch 38/100\n",
            "67/67 [==============================] - 3s 39ms/step - loss: 0.0705 - accuracy: 0.9713 - val_loss: 0.1374 - val_accuracy: 0.9582\n",
            "Epoch 39/100\n",
            "67/67 [==============================] - 3s 40ms/step - loss: 0.0524 - accuracy: 0.9793 - val_loss: 0.1249 - val_accuracy: 0.9615\n",
            "Epoch 40/100\n",
            "67/67 [==============================] - 3s 39ms/step - loss: 0.0279 - accuracy: 0.9911 - val_loss: 0.2383 - val_accuracy: 0.9373\n",
            "Epoch 41/100\n",
            "67/67 [==============================] - 3s 40ms/step - loss: 0.0640 - accuracy: 0.9746 - val_loss: 0.1307 - val_accuracy: 0.9615\n",
            "Epoch 42/100\n",
            "67/67 [==============================] - 3s 40ms/step - loss: 0.0254 - accuracy: 0.9925 - val_loss: 0.1473 - val_accuracy: 0.9538\n",
            "Epoch 43/100\n",
            "67/67 [==============================] - 3s 39ms/step - loss: 0.0129 - accuracy: 0.9972 - val_loss: 0.1263 - val_accuracy: 0.9571\n",
            "Epoch 44/100\n",
            "67/67 [==============================] - 3s 39ms/step - loss: 0.0145 - accuracy: 0.9943 - val_loss: 0.1529 - val_accuracy: 0.9560\n",
            "Epoch 45/100\n",
            "67/67 [==============================] - 3s 39ms/step - loss: 0.0253 - accuracy: 0.9920 - val_loss: 0.1360 - val_accuracy: 0.9604\n",
            "Epoch 46/100\n",
            "67/67 [==============================] - 3s 40ms/step - loss: 0.0269 - accuracy: 0.9901 - val_loss: 0.1440 - val_accuracy: 0.9648\n",
            "Epoch 47/100\n",
            "67/67 [==============================] - 3s 39ms/step - loss: 0.0145 - accuracy: 0.9967 - val_loss: 0.1521 - val_accuracy: 0.9582\n",
            "Epoch 48/100\n",
            "67/67 [==============================] - 3s 40ms/step - loss: 0.0184 - accuracy: 0.9929 - val_loss: 0.1541 - val_accuracy: 0.9637\n",
            "Epoch 49/100\n",
            "67/67 [==============================] - 3s 39ms/step - loss: 0.0086 - accuracy: 0.9976 - val_loss: 0.1607 - val_accuracy: 0.9593\n",
            "Epoch 50/100\n",
            "67/67 [==============================] - 3s 40ms/step - loss: 0.0061 - accuracy: 0.9991 - val_loss: 0.1726 - val_accuracy: 0.9560\n",
            "Epoch 51/100\n",
            "67/67 [==============================] - 3s 39ms/step - loss: 0.0105 - accuracy: 0.9958 - val_loss: 0.1834 - val_accuracy: 0.9615\n",
            "Epoch 52/100\n",
            "67/67 [==============================] - 3s 39ms/step - loss: 0.0066 - accuracy: 0.9986 - val_loss: 0.2872 - val_accuracy: 0.9439\n",
            "Epoch 53/100\n",
            "67/67 [==============================] - 3s 39ms/step - loss: 0.0434 - accuracy: 0.9849 - val_loss: 0.2498 - val_accuracy: 0.9593\n",
            "Epoch 54/100\n",
            "67/67 [==============================] - 3s 39ms/step - loss: 0.0513 - accuracy: 0.9835 - val_loss: 0.1666 - val_accuracy: 0.9593\n",
            "Epoch 55/100\n",
            "67/67 [==============================] - 3s 39ms/step - loss: 0.0249 - accuracy: 0.9915 - val_loss: 0.1832 - val_accuracy: 0.9571\n",
            "Epoch 56/100\n",
            "67/67 [==============================] - 3s 39ms/step - loss: 0.0215 - accuracy: 0.9925 - val_loss: 0.1644 - val_accuracy: 0.9571\n",
            "Epoch 57/100\n",
            "67/67 [==============================] - 3s 39ms/step - loss: 0.0180 - accuracy: 0.9948 - val_loss: 0.1505 - val_accuracy: 0.9637\n",
            "Epoch 58/100\n",
            "67/67 [==============================] - 3s 39ms/step - loss: 0.0223 - accuracy: 0.9911 - val_loss: 0.2392 - val_accuracy: 0.9494\n",
            "Epoch 59/100\n",
            "67/67 [==============================] - 3s 39ms/step - loss: 0.0226 - accuracy: 0.9925 - val_loss: 0.1663 - val_accuracy: 0.9582\n",
            "Epoch 60/100\n",
            "67/67 [==============================] - 3s 40ms/step - loss: 0.0092 - accuracy: 0.9976 - val_loss: 0.1535 - val_accuracy: 0.9626\n",
            "Epoch 61/100\n",
            "67/67 [==============================] - 3s 39ms/step - loss: 0.0046 - accuracy: 0.9986 - val_loss: 0.1628 - val_accuracy: 0.9670\n",
            "Epoch 62/100\n",
            "67/67 [==============================] - 3s 40ms/step - loss: 0.0077 - accuracy: 0.9976 - val_loss: 0.1733 - val_accuracy: 0.9604\n",
            "Epoch 63/100\n",
            "67/67 [==============================] - 3s 40ms/step - loss: 0.0428 - accuracy: 0.9835 - val_loss: 0.1803 - val_accuracy: 0.9582\n",
            "Epoch 64/100\n",
            "67/67 [==============================] - 3s 39ms/step - loss: 0.0330 - accuracy: 0.9863 - val_loss: 0.1689 - val_accuracy: 0.9549\n",
            "Epoch 65/100\n",
            "67/67 [==============================] - 3s 39ms/step - loss: 0.0353 - accuracy: 0.9845 - val_loss: 0.1837 - val_accuracy: 0.9549\n",
            "Epoch 66/100\n",
            "67/67 [==============================] - 3s 39ms/step - loss: 0.0532 - accuracy: 0.9807 - val_loss: 0.1603 - val_accuracy: 0.9538\n",
            "Epoch 67/100\n",
            "67/67 [==============================] - 3s 39ms/step - loss: 0.0157 - accuracy: 0.9943 - val_loss: 0.2103 - val_accuracy: 0.9516\n",
            "Epoch 68/100\n",
            "67/67 [==============================] - 3s 40ms/step - loss: 0.0047 - accuracy: 0.9991 - val_loss: 0.1477 - val_accuracy: 0.9593\n",
            "Epoch 69/100\n",
            "67/67 [==============================] - 3s 39ms/step - loss: 0.0035 - accuracy: 0.9991 - val_loss: 0.1546 - val_accuracy: 0.9615\n",
            "Epoch 70/100\n",
            "67/67 [==============================] - 3s 39ms/step - loss: 0.0019 - accuracy: 1.0000 - val_loss: 0.1618 - val_accuracy: 0.9593\n",
            "Epoch 71/100\n",
            "67/67 [==============================] - 3s 39ms/step - loss: 0.0012 - accuracy: 1.0000 - val_loss: 0.1606 - val_accuracy: 0.9604\n",
            "Epoch 72/100\n",
            "67/67 [==============================] - 3s 39ms/step - loss: 8.3848e-04 - accuracy: 1.0000 - val_loss: 0.1698 - val_accuracy: 0.9593\n",
            "Epoch 73/100\n",
            "67/67 [==============================] - 3s 39ms/step - loss: 5.9014e-04 - accuracy: 1.0000 - val_loss: 0.1549 - val_accuracy: 0.9604\n",
            "Epoch 74/100\n",
            "67/67 [==============================] - 3s 39ms/step - loss: 5.6550e-04 - accuracy: 1.0000 - val_loss: 0.1657 - val_accuracy: 0.9604\n",
            "Epoch 75/100\n",
            "67/67 [==============================] - 3s 39ms/step - loss: 4.3384e-04 - accuracy: 1.0000 - val_loss: 0.1626 - val_accuracy: 0.9604\n",
            "Epoch 76/100\n",
            "67/67 [==============================] - 3s 39ms/step - loss: 3.6462e-04 - accuracy: 1.0000 - val_loss: 0.1691 - val_accuracy: 0.9615\n",
            "Epoch 77/100\n",
            "67/67 [==============================] - 3s 39ms/step - loss: 3.6870e-04 - accuracy: 1.0000 - val_loss: 0.1659 - val_accuracy: 0.9604\n",
            "Epoch 78/100\n",
            "67/67 [==============================] - 3s 40ms/step - loss: 3.1838e-04 - accuracy: 1.0000 - val_loss: 0.1715 - val_accuracy: 0.9615\n",
            "Epoch 79/100\n",
            "67/67 [==============================] - 3s 39ms/step - loss: 2.9704e-04 - accuracy: 1.0000 - val_loss: 0.1691 - val_accuracy: 0.9604\n",
            "Epoch 80/100\n",
            "67/67 [==============================] - 3s 40ms/step - loss: 2.8809e-04 - accuracy: 1.0000 - val_loss: 0.1702 - val_accuracy: 0.9604\n",
            "Epoch 81/100\n",
            "67/67 [==============================] - 3s 39ms/step - loss: 2.9437e-04 - accuracy: 1.0000 - val_loss: 0.1745 - val_accuracy: 0.9604\n",
            "Epoch 82/100\n",
            "67/67 [==============================] - 3s 40ms/step - loss: 2.3918e-04 - accuracy: 1.0000 - val_loss: 0.1768 - val_accuracy: 0.9604\n",
            "Epoch 83/100\n",
            "67/67 [==============================] - 3s 40ms/step - loss: 2.3815e-04 - accuracy: 1.0000 - val_loss: 0.1729 - val_accuracy: 0.9604\n",
            "Epoch 84/100\n",
            "67/67 [==============================] - 3s 40ms/step - loss: 2.2403e-04 - accuracy: 1.0000 - val_loss: 0.1781 - val_accuracy: 0.9604\n",
            "Epoch 85/100\n",
            "67/67 [==============================] - 3s 39ms/step - loss: 2.1119e-04 - accuracy: 1.0000 - val_loss: 0.1791 - val_accuracy: 0.9604\n",
            "Epoch 86/100\n",
            "67/67 [==============================] - 3s 39ms/step - loss: 1.9751e-04 - accuracy: 1.0000 - val_loss: 0.1843 - val_accuracy: 0.9604\n",
            "Epoch 87/100\n",
            "67/67 [==============================] - 3s 39ms/step - loss: 1.8814e-04 - accuracy: 1.0000 - val_loss: 0.1838 - val_accuracy: 0.9604\n",
            "Epoch 88/100\n",
            "67/67 [==============================] - 3s 40ms/step - loss: 1.7893e-04 - accuracy: 1.0000 - val_loss: 0.1820 - val_accuracy: 0.9604\n",
            "Epoch 89/100\n",
            "67/67 [==============================] - 3s 39ms/step - loss: 1.5907e-04 - accuracy: 1.0000 - val_loss: 0.1857 - val_accuracy: 0.9604\n",
            "Epoch 90/100\n",
            "67/67 [==============================] - 3s 39ms/step - loss: 1.6077e-04 - accuracy: 1.0000 - val_loss: 0.1868 - val_accuracy: 0.9604\n",
            "Epoch 91/100\n",
            "67/67 [==============================] - 3s 39ms/step - loss: 1.5227e-04 - accuracy: 1.0000 - val_loss: 0.1868 - val_accuracy: 0.9604\n",
            "Epoch 92/100\n",
            "67/67 [==============================] - 3s 39ms/step - loss: 1.4031e-04 - accuracy: 1.0000 - val_loss: 0.1922 - val_accuracy: 0.9604\n",
            "Epoch 93/100\n",
            "67/67 [==============================] - 3s 39ms/step - loss: 1.3253e-04 - accuracy: 1.0000 - val_loss: 0.1932 - val_accuracy: 0.9604\n",
            "Epoch 94/100\n",
            "67/67 [==============================] - 3s 40ms/step - loss: 1.2585e-04 - accuracy: 1.0000 - val_loss: 0.1918 - val_accuracy: 0.9604\n",
            "Epoch 95/100\n",
            "67/67 [==============================] - 3s 39ms/step - loss: 1.3809e-04 - accuracy: 1.0000 - val_loss: 0.1921 - val_accuracy: 0.9615\n",
            "Epoch 96/100\n",
            "67/67 [==============================] - 3s 40ms/step - loss: 1.1623e-04 - accuracy: 1.0000 - val_loss: 0.1980 - val_accuracy: 0.9604\n",
            "Epoch 97/100\n",
            "67/67 [==============================] - 3s 40ms/step - loss: 1.1425e-04 - accuracy: 1.0000 - val_loss: 0.2043 - val_accuracy: 0.9593\n",
            "Epoch 98/100\n",
            "67/67 [==============================] - 3s 40ms/step - loss: 1.1030e-04 - accuracy: 1.0000 - val_loss: 0.1964 - val_accuracy: 0.9615\n",
            "Epoch 99/100\n",
            "67/67 [==============================] - 3s 41ms/step - loss: 1.0495e-04 - accuracy: 1.0000 - val_loss: 0.2013 - val_accuracy: 0.9604\n",
            "Epoch 100/100\n",
            "67/67 [==============================] - 3s 39ms/step - loss: 9.6483e-05 - accuracy: 1.0000 - val_loss: 0.2090 - val_accuracy: 0.9593\n"
          ]
        }
      ]
    },
    {
      "cell_type": "code",
      "source": [
        "from matplotlib import pyplot as plt\n",
        "\n",
        "plt.plot(history.history['accuracy'])\n",
        "plt.plot(history.history['val_accuracy'])\n",
        "plt.ylabel('accuracy')\n",
        "plt.xlabel('epoch')\n",
        "plt.legend(['train', 'val'], loc='upper left')\n",
        "plt.show()"
      ],
      "metadata": {
        "colab": {
          "base_uri": "https://localhost:8080/",
          "height": 279
        },
        "id": "i3UoAw-7iyng",
        "outputId": "0e03d4eb-5eb9-48b5-dca4-adead4c44add"
      },
      "execution_count": 15,
      "outputs": [
        {
          "output_type": "display_data",
          "data": {
            "text/plain": [
              "<Figure size 432x288 with 1 Axes>"
            ],
            "image/png": "[encoded data removed]"
          },
          "metadata": {
            "needs_background": "light"
          }
        }
      ]
    }
  ]
}