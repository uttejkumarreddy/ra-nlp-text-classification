{
  "nbformat": 4,
  "nbformat_minor": 0,
  "metadata": {
    "colab": {
      "provenance": []
    },
    "kernelspec": {
      "name": "python3",
      "display_name": "Python 3"
    },
    "language_info": {
      "name": "python"
    },
    "accelerator": "GPU",
    "gpuClass": "standard"
  },
  "cells": [
    {
      "cell_type": "code",
      "execution_count": 1,
      "metadata": {
        "colab": {
          "base_uri": "https://localhost:8080/"
        },
        "id": "RAhroSFWAjUD",
        "outputId": "402433df-f7e1-4fc8-af77-77f6428cfcc0"
      },
      "outputs": [
        {
          "output_type": "stream",
          "name": "stdout",
          "text": [
            "Mounted at /content/drive\n"
          ]
        }
      ],
      "source": [
        "from google.colab import drive\n",
        "drive.mount('/content/drive')"
      ]
    },
    {
      "cell_type": "code",
      "source": [
        "import matplotlib.pyplot as plt\n",
        "import numpy as np\n",
        "import PIL\n",
        "import tensorflow as tf\n",
        "\n",
        "import pathlib\n",
        "\n",
        "from tensorflow import keras\n",
        "from tensorflow.keras import layers\n",
        "from tensorflow.keras.models import Sequential"
      ],
      "metadata": {
        "id": "oT7AM8lEAv5k"
      },
      "execution_count": 2,
      "outputs": []
    },
    {
      "cell_type": "code",
      "source": [
        "DATASET_LOCATION = '/content/drive/MyDrive/ai-playground/ra-text-classification-spectrogram/spectrograms/bert-imdb-3000-categorized'\n",
        "data_dir = pathlib.Path(DATASET_LOCATION)"
      ],
      "metadata": {
        "id": "7VUUpegAAw9v"
      },
      "execution_count": 3,
      "outputs": []
    },
    {
      "cell_type": "code",
      "source": [
        "TRAIN_FRACTION = 0.8\n",
        "batch_size = 32 # default batch size of data\n",
        "img_height = 224 # default height to which image is resized\n",
        "img_width = 224 # default width to which image is resized\n",
        "seed = 2022 # random seed for shuffling and transformations"
      ],
      "metadata": {
        "id": "Yry56UaoBLAY"
      },
      "execution_count": 4,
      "outputs": []
    },
    {
      "cell_type": "code",
      "source": [
        "ds_train = tf.keras.utils.image_dataset_from_directory(\n",
        "  data_dir,\n",
        "  validation_split = 1 - TRAIN_FRACTION,\n",
        "  subset = \"training\",\n",
        "  seed = seed,\n",
        "  image_size = (img_height, img_width),\n",
        "  batch_size = batch_size)"
      ],
      "metadata": {
        "colab": {
          "base_uri": "https://localhost:8080/"
        },
        "id": "D2roYZRMBQEK",
        "outputId": "b65eb684-5c54-41ce-ff31-2226e7b8dfae"
      },
      "execution_count": 5,
      "outputs": [
        {
          "output_type": "stream",
          "name": "stdout",
          "text": [
            "Found 3466 files belonging to 2 classes.\n",
            "Using 2773 files for training.\n"
          ]
        }
      ]
    },
    {
      "cell_type": "code",
      "source": [
        "ds_val = tf.keras.utils.image_dataset_from_directory(\n",
        "  data_dir,\n",
        "  validation_split = 1 - TRAIN_FRACTION,\n",
        "  subset = \"validation\",\n",
        "  seed = seed,\n",
        "  image_size = (img_height, img_width),\n",
        "  batch_size = batch_size)"
      ],
      "metadata": {
        "colab": {
          "base_uri": "https://localhost:8080/"
        },
        "id": "ue5bkl0tBSwP",
        "outputId": "374b5fa1-cd26-400c-8653-2bbd0d220c10"
      },
      "execution_count": 6,
      "outputs": [
        {
          "output_type": "stream",
          "name": "stdout",
          "text": [
            "Found 3466 files belonging to 2 classes.\n",
            "Using 693 files for validation.\n"
          ]
        }
      ]
    },
    {
      "cell_type": "code",
      "source": [
        "AUTOTUNE = tf.data.AUTOTUNE\n",
        "\n",
        "train_ds = ds_train.cache().shuffle(1000).prefetch(buffer_size=AUTOTUNE)\n",
        "val_ds = ds_val.cache().prefetch(buffer_size=AUTOTUNE)"
      ],
      "metadata": {
        "id": "bx8Lek9IBUFP"
      },
      "execution_count": 7,
      "outputs": []
    },
    {
      "cell_type": "code",
      "source": [
        "normalization_layer = layers.Rescaling(1./255)"
      ],
      "metadata": {
        "id": "fB6k_V-XDZz2"
      },
      "execution_count": 8,
      "outputs": []
    },
    {
      "cell_type": "code",
      "source": [
        "normalized_ds = train_ds.map(lambda x, y: (normalization_layer(x), y))\n",
        "image_batch, labels_batch = next(iter(normalized_ds))"
      ],
      "metadata": {
        "id": "nNKbwTuuDbkv"
      },
      "execution_count": 9,
      "outputs": []
    },
    {
      "cell_type": "code",
      "source": [
        "class_names = ds_train.class_names\n",
        "num_classes = len(class_names)\n",
        "print(class_names)"
      ],
      "metadata": {
        "colab": {
          "base_uri": "https://localhost:8080/"
        },
        "id": "IFhkqBmNDfIG",
        "outputId": "d6e22c81-43e3-4975-81ac-150e358e7d41"
      },
      "execution_count": 10,
      "outputs": [
        {
          "output_type": "stream",
          "name": "stdout",
          "text": [
            "['neg', 'pos']\n"
          ]
        }
      ]
    },
    {
      "cell_type": "code",
      "source": [
        "model = Sequential([\n",
        "  layers.Rescaling(1./255, input_shape=(img_height, img_width, 3)),\n",
        "  layers.Conv2D(16, 3, padding='same', activation='relu'),\n",
        "  layers.MaxPooling2D(),\n",
        "  layers.Conv2D(32, 3, padding='same', activation='relu'),\n",
        "  layers.MaxPooling2D(),\n",
        "  layers.Conv2D(64, 3, padding='same', activation='relu'),\n",
        "  layers.MaxPooling2D(),\n",
        "  layers.Flatten(),\n",
        "  layers.Dense(128, activation='relu'),\n",
        "  layers.Dense(1, activation='sigmoid')\n",
        "])"
      ],
      "metadata": {
        "id": "5BRzrbQzDgLu"
      },
      "execution_count": 11,
      "outputs": []
    },
    {
      "cell_type": "code",
      "source": [
        "model.compile(optimizer='adam',\n",
        "              loss=tf.keras.losses.binary_crossentropy,\n",
        "              metrics=['accuracy'])"
      ],
      "metadata": {
        "id": "8TUMtmluDhf3"
      },
      "execution_count": 12,
      "outputs": []
    },
    {
      "cell_type": "code",
      "source": [
        "epochs=100\n",
        "history = model.fit(\n",
        "  train_ds,\n",
        "  validation_data=val_ds,\n",
        "  epochs=epochs\n",
        ")"
      ],
      "metadata": {
        "colab": {
          "base_uri": "https://localhost:8080/"
        },
        "id": "cdgXLo_kDigW",
        "outputId": "1ada3d65-8692-437e-e8d1-d7e5891d8d7c"
      },
      "execution_count": 13,
      "outputs": [
        {
          "output_type": "stream",
          "name": "stdout",
          "text": [
            "Epoch 1/100\n",
            "87/87 [==============================] - 56s 556ms/step - loss: 0.7126 - accuracy: 0.5380 - val_loss: 0.6916 - val_accuracy: 0.5281\n",
            "Epoch 2/100\n",
            "87/87 [==============================] - 3s 36ms/step - loss: 0.6894 - accuracy: 0.5499 - val_loss: 0.6899 - val_accuracy: 0.5281\n",
            "Epoch 3/100\n",
            "87/87 [==============================] - 3s 35ms/step - loss: 0.6852 - accuracy: 0.5499 - val_loss: 0.6817 - val_accuracy: 0.5281\n",
            "Epoch 4/100\n",
            "87/87 [==============================] - 3s 35ms/step - loss: 0.6687 - accuracy: 0.5929 - val_loss: 0.6783 - val_accuracy: 0.5859\n",
            "Epoch 5/100\n",
            "87/87 [==============================] - 3s 36ms/step - loss: 0.6482 - accuracy: 0.6217 - val_loss: 0.6518 - val_accuracy: 0.6032\n",
            "Epoch 6/100\n",
            "87/87 [==============================] - 3s 35ms/step - loss: 0.6296 - accuracy: 0.6466 - val_loss: 0.6515 - val_accuracy: 0.6162\n",
            "Epoch 7/100\n",
            "87/87 [==============================] - 3s 35ms/step - loss: 0.6255 - accuracy: 0.6545 - val_loss: 0.6230 - val_accuracy: 0.6349\n",
            "Epoch 8/100\n",
            "87/87 [==============================] - 3s 35ms/step - loss: 0.6056 - accuracy: 0.6769 - val_loss: 0.6323 - val_accuracy: 0.6450\n",
            "Epoch 9/100\n",
            "87/87 [==============================] - 3s 35ms/step - loss: 0.5969 - accuracy: 0.6794 - val_loss: 0.6133 - val_accuracy: 0.6623\n",
            "Epoch 10/100\n",
            "87/87 [==============================] - 3s 35ms/step - loss: 0.5941 - accuracy: 0.6855 - val_loss: 0.6142 - val_accuracy: 0.6623\n",
            "Epoch 11/100\n",
            "87/87 [==============================] - 3s 35ms/step - loss: 0.5830 - accuracy: 0.6938 - val_loss: 0.6108 - val_accuracy: 0.6753\n",
            "Epoch 12/100\n",
            "87/87 [==============================] - 3s 35ms/step - loss: 0.5748 - accuracy: 0.6978 - val_loss: 0.6150 - val_accuracy: 0.6537\n",
            "Epoch 13/100\n",
            "87/87 [==============================] - 3s 35ms/step - loss: 0.5725 - accuracy: 0.7007 - val_loss: 0.6101 - val_accuracy: 0.6681\n",
            "Epoch 14/100\n",
            "87/87 [==============================] - 3s 35ms/step - loss: 0.5623 - accuracy: 0.7191 - val_loss: 0.6250 - val_accuracy: 0.6696\n",
            "Epoch 15/100\n",
            "87/87 [==============================] - 3s 36ms/step - loss: 0.5615 - accuracy: 0.7129 - val_loss: 0.6068 - val_accuracy: 0.6782\n",
            "Epoch 16/100\n",
            "87/87 [==============================] - 3s 35ms/step - loss: 0.5539 - accuracy: 0.7155 - val_loss: 0.6176 - val_accuracy: 0.6724\n",
            "Epoch 17/100\n",
            "87/87 [==============================] - 3s 35ms/step - loss: 0.5567 - accuracy: 0.7075 - val_loss: 0.6153 - val_accuracy: 0.6580\n",
            "Epoch 18/100\n",
            "87/87 [==============================] - 3s 35ms/step - loss: 0.5499 - accuracy: 0.7129 - val_loss: 0.6195 - val_accuracy: 0.6739\n",
            "Epoch 19/100\n",
            "87/87 [==============================] - 3s 35ms/step - loss: 0.5514 - accuracy: 0.7133 - val_loss: 0.6120 - val_accuracy: 0.6681\n",
            "Epoch 20/100\n",
            "87/87 [==============================] - 3s 35ms/step - loss: 0.5476 - accuracy: 0.7238 - val_loss: 0.6184 - val_accuracy: 0.6710\n",
            "Epoch 21/100\n",
            "87/87 [==============================] - 3s 36ms/step - loss: 0.5368 - accuracy: 0.7259 - val_loss: 0.6305 - val_accuracy: 0.6667\n",
            "Epoch 22/100\n",
            "87/87 [==============================] - 3s 36ms/step - loss: 0.5423 - accuracy: 0.7245 - val_loss: 0.6175 - val_accuracy: 0.6638\n",
            "Epoch 23/100\n",
            "87/87 [==============================] - 3s 36ms/step - loss: 0.5265 - accuracy: 0.7349 - val_loss: 0.6324 - val_accuracy: 0.6667\n",
            "Epoch 24/100\n",
            "87/87 [==============================] - 3s 35ms/step - loss: 0.5223 - accuracy: 0.7454 - val_loss: 0.6501 - val_accuracy: 0.6609\n",
            "Epoch 25/100\n",
            "87/87 [==============================] - 3s 35ms/step - loss: 0.5199 - accuracy: 0.7346 - val_loss: 0.6294 - val_accuracy: 0.6782\n",
            "Epoch 26/100\n",
            "87/87 [==============================] - 3s 35ms/step - loss: 0.5177 - accuracy: 0.7367 - val_loss: 0.6483 - val_accuracy: 0.6710\n",
            "Epoch 27/100\n",
            "87/87 [==============================] - 3s 35ms/step - loss: 0.5051 - accuracy: 0.7425 - val_loss: 0.6259 - val_accuracy: 0.6782\n",
            "Epoch 28/100\n",
            "87/87 [==============================] - 3s 36ms/step - loss: 0.5074 - accuracy: 0.7461 - val_loss: 0.6221 - val_accuracy: 0.6753\n",
            "Epoch 29/100\n",
            "87/87 [==============================] - 3s 36ms/step - loss: 0.5009 - accuracy: 0.7512 - val_loss: 0.6528 - val_accuracy: 0.6753\n",
            "Epoch 30/100\n",
            "87/87 [==============================] - 3s 36ms/step - loss: 0.4949 - accuracy: 0.7533 - val_loss: 0.6414 - val_accuracy: 0.6724\n",
            "Epoch 31/100\n",
            "87/87 [==============================] - 3s 37ms/step - loss: 0.4892 - accuracy: 0.7580 - val_loss: 0.6719 - val_accuracy: 0.6753\n",
            "Epoch 32/100\n",
            "87/87 [==============================] - 3s 35ms/step - loss: 0.4868 - accuracy: 0.7616 - val_loss: 0.6760 - val_accuracy: 0.6609\n",
            "Epoch 33/100\n",
            "87/87 [==============================] - 3s 36ms/step - loss: 0.4740 - accuracy: 0.7638 - val_loss: 0.6584 - val_accuracy: 0.6566\n",
            "Epoch 34/100\n",
            "87/87 [==============================] - 3s 36ms/step - loss: 0.4738 - accuracy: 0.7717 - val_loss: 0.6449 - val_accuracy: 0.6797\n",
            "Epoch 35/100\n",
            "87/87 [==============================] - 3s 35ms/step - loss: 0.4791 - accuracy: 0.7620 - val_loss: 0.6850 - val_accuracy: 0.6667\n",
            "Epoch 36/100\n",
            "87/87 [==============================] - 3s 35ms/step - loss: 0.4685 - accuracy: 0.7739 - val_loss: 0.6710 - val_accuracy: 0.6710\n",
            "Epoch 37/100\n",
            "87/87 [==============================] - 3s 36ms/step - loss: 0.4583 - accuracy: 0.7678 - val_loss: 0.7596 - val_accuracy: 0.6508\n",
            "Epoch 38/100\n",
            "87/87 [==============================] - 3s 35ms/step - loss: 0.4484 - accuracy: 0.7797 - val_loss: 0.6909 - val_accuracy: 0.6782\n",
            "Epoch 39/100\n",
            "87/87 [==============================] - 3s 35ms/step - loss: 0.4505 - accuracy: 0.7768 - val_loss: 0.8754 - val_accuracy: 0.6046\n",
            "Epoch 40/100\n",
            "87/87 [==============================] - 3s 35ms/step - loss: 0.4573 - accuracy: 0.7746 - val_loss: 0.7014 - val_accuracy: 0.6537\n",
            "Epoch 41/100\n",
            "87/87 [==============================] - 3s 36ms/step - loss: 0.4403 - accuracy: 0.7779 - val_loss: 0.7278 - val_accuracy: 0.6450\n",
            "Epoch 42/100\n",
            "87/87 [==============================] - 3s 35ms/step - loss: 0.4419 - accuracy: 0.7789 - val_loss: 0.7666 - val_accuracy: 0.6421\n",
            "Epoch 43/100\n",
            "87/87 [==============================] - 3s 35ms/step - loss: 0.4220 - accuracy: 0.7930 - val_loss: 0.7187 - val_accuracy: 0.6566\n",
            "Epoch 44/100\n",
            "87/87 [==============================] - 3s 35ms/step - loss: 0.4219 - accuracy: 0.8006 - val_loss: 0.7200 - val_accuracy: 0.6609\n",
            "Epoch 45/100\n",
            "87/87 [==============================] - 3s 35ms/step - loss: 0.4136 - accuracy: 0.8038 - val_loss: 0.7505 - val_accuracy: 0.6551\n",
            "Epoch 46/100\n",
            "87/87 [==============================] - 3s 35ms/step - loss: 0.4092 - accuracy: 0.7988 - val_loss: 0.7481 - val_accuracy: 0.6782\n",
            "Epoch 47/100\n",
            "87/87 [==============================] - 3s 35ms/step - loss: 0.4043 - accuracy: 0.8024 - val_loss: 0.7818 - val_accuracy: 0.6609\n",
            "Epoch 48/100\n",
            "87/87 [==============================] - 3s 35ms/step - loss: 0.3945 - accuracy: 0.8063 - val_loss: 0.8355 - val_accuracy: 0.6277\n",
            "Epoch 49/100\n",
            "87/87 [==============================] - 3s 35ms/step - loss: 0.3927 - accuracy: 0.8128 - val_loss: 0.7646 - val_accuracy: 0.6479\n",
            "Epoch 50/100\n",
            "87/87 [==============================] - 3s 35ms/step - loss: 0.3800 - accuracy: 0.8226 - val_loss: 0.8312 - val_accuracy: 0.6421\n",
            "Epoch 51/100\n",
            "87/87 [==============================] - 3s 35ms/step - loss: 0.3798 - accuracy: 0.8251 - val_loss: 0.8568 - val_accuracy: 0.6349\n",
            "Epoch 52/100\n",
            "87/87 [==============================] - 3s 36ms/step - loss: 0.3708 - accuracy: 0.8215 - val_loss: 0.8196 - val_accuracy: 0.6580\n",
            "Epoch 53/100\n",
            "87/87 [==============================] - 3s 35ms/step - loss: 0.3628 - accuracy: 0.8287 - val_loss: 0.8112 - val_accuracy: 0.6407\n",
            "Epoch 54/100\n",
            "87/87 [==============================] - 3s 35ms/step - loss: 0.3656 - accuracy: 0.8265 - val_loss: 0.9329 - val_accuracy: 0.6450\n",
            "Epoch 55/100\n",
            "87/87 [==============================] - 3s 35ms/step - loss: 0.3529 - accuracy: 0.8334 - val_loss: 0.8536 - val_accuracy: 0.6508\n",
            "Epoch 56/100\n",
            "87/87 [==============================] - 3s 35ms/step - loss: 0.3330 - accuracy: 0.8493 - val_loss: 0.8964 - val_accuracy: 0.6421\n",
            "Epoch 57/100\n",
            "87/87 [==============================] - 3s 35ms/step - loss: 0.3339 - accuracy: 0.8457 - val_loss: 0.8952 - val_accuracy: 0.6364\n",
            "Epoch 58/100\n",
            "87/87 [==============================] - 3s 35ms/step - loss: 0.3292 - accuracy: 0.8496 - val_loss: 0.8955 - val_accuracy: 0.6494\n",
            "Epoch 59/100\n",
            "87/87 [==============================] - 3s 35ms/step - loss: 0.3362 - accuracy: 0.8374 - val_loss: 0.9963 - val_accuracy: 0.6407\n",
            "Epoch 60/100\n",
            "87/87 [==============================] - 3s 35ms/step - loss: 0.3215 - accuracy: 0.8539 - val_loss: 0.9474 - val_accuracy: 0.6407\n",
            "Epoch 61/100\n",
            "87/87 [==============================] - 3s 35ms/step - loss: 0.3174 - accuracy: 0.8568 - val_loss: 0.9687 - val_accuracy: 0.6147\n",
            "Epoch 62/100\n",
            "87/87 [==============================] - 3s 35ms/step - loss: 0.3054 - accuracy: 0.8608 - val_loss: 0.9562 - val_accuracy: 0.6306\n",
            "Epoch 63/100\n",
            "87/87 [==============================] - 3s 35ms/step - loss: 0.3129 - accuracy: 0.8622 - val_loss: 0.9377 - val_accuracy: 0.6349\n",
            "Epoch 64/100\n",
            "87/87 [==============================] - 3s 35ms/step - loss: 0.2895 - accuracy: 0.8723 - val_loss: 1.0151 - val_accuracy: 0.6306\n",
            "Epoch 65/100\n",
            "87/87 [==============================] - 3s 35ms/step - loss: 0.2777 - accuracy: 0.8720 - val_loss: 1.0289 - val_accuracy: 0.6378\n",
            "Epoch 66/100\n",
            "87/87 [==============================] - 3s 35ms/step - loss: 0.2782 - accuracy: 0.8727 - val_loss: 1.0427 - val_accuracy: 0.6306\n",
            "Epoch 67/100\n",
            "87/87 [==============================] - 3s 35ms/step - loss: 0.2578 - accuracy: 0.8893 - val_loss: 1.1068 - val_accuracy: 0.6320\n",
            "Epoch 68/100\n",
            "87/87 [==============================] - 3s 35ms/step - loss: 0.2710 - accuracy: 0.8803 - val_loss: 1.1631 - val_accuracy: 0.6248\n",
            "Epoch 69/100\n",
            "87/87 [==============================] - 3s 35ms/step - loss: 0.2523 - accuracy: 0.8929 - val_loss: 1.1897 - val_accuracy: 0.6335\n",
            "Epoch 70/100\n",
            "87/87 [==============================] - 3s 35ms/step - loss: 0.2480 - accuracy: 0.8933 - val_loss: 1.1685 - val_accuracy: 0.6364\n",
            "Epoch 71/100\n",
            "87/87 [==============================] - 3s 35ms/step - loss: 0.2394 - accuracy: 0.8904 - val_loss: 1.1512 - val_accuracy: 0.6349\n",
            "Epoch 72/100\n",
            "87/87 [==============================] - 3s 35ms/step - loss: 0.2478 - accuracy: 0.8940 - val_loss: 1.3304 - val_accuracy: 0.6089\n",
            "Epoch 73/100\n",
            "87/87 [==============================] - 3s 36ms/step - loss: 0.2396 - accuracy: 0.8954 - val_loss: 1.2729 - val_accuracy: 0.6378\n",
            "Epoch 74/100\n",
            "87/87 [==============================] - 3s 35ms/step - loss: 0.2339 - accuracy: 0.9012 - val_loss: 1.2760 - val_accuracy: 0.6465\n",
            "Epoch 75/100\n",
            "87/87 [==============================] - 3s 35ms/step - loss: 0.2125 - accuracy: 0.9102 - val_loss: 1.3116 - val_accuracy: 0.6465\n",
            "Epoch 76/100\n",
            "87/87 [==============================] - 3s 35ms/step - loss: 0.2038 - accuracy: 0.9091 - val_loss: 1.2468 - val_accuracy: 0.6277\n",
            "Epoch 77/100\n",
            "87/87 [==============================] - 3s 35ms/step - loss: 0.2017 - accuracy: 0.9149 - val_loss: 1.3870 - val_accuracy: 0.6219\n",
            "Epoch 78/100\n",
            "87/87 [==============================] - 3s 35ms/step - loss: 0.1725 - accuracy: 0.9311 - val_loss: 1.4245 - val_accuracy: 0.6392\n",
            "Epoch 79/100\n",
            "87/87 [==============================] - 3s 35ms/step - loss: 0.1950 - accuracy: 0.9203 - val_loss: 1.3482 - val_accuracy: 0.6205\n",
            "Epoch 80/100\n",
            "87/87 [==============================] - 3s 35ms/step - loss: 0.1810 - accuracy: 0.9268 - val_loss: 1.5080 - val_accuracy: 0.6392\n",
            "Epoch 81/100\n",
            "87/87 [==============================] - 3s 35ms/step - loss: 0.1828 - accuracy: 0.9207 - val_loss: 1.4637 - val_accuracy: 0.6306\n",
            "Epoch 82/100\n",
            "87/87 [==============================] - 3s 35ms/step - loss: 0.1555 - accuracy: 0.9354 - val_loss: 1.6068 - val_accuracy: 0.6291\n",
            "Epoch 83/100\n",
            "87/87 [==============================] - 3s 36ms/step - loss: 0.1632 - accuracy: 0.9275 - val_loss: 1.5656 - val_accuracy: 0.6320\n",
            "Epoch 84/100\n",
            "87/87 [==============================] - 3s 37ms/step - loss: 0.1637 - accuracy: 0.9308 - val_loss: 1.4964 - val_accuracy: 0.6320\n",
            "Epoch 85/100\n",
            "87/87 [==============================] - 3s 36ms/step - loss: 0.1533 - accuracy: 0.9391 - val_loss: 1.5838 - val_accuracy: 0.6392\n",
            "Epoch 86/100\n",
            "87/87 [==============================] - 3s 35ms/step - loss: 0.1145 - accuracy: 0.9582 - val_loss: 1.7600 - val_accuracy: 0.6306\n",
            "Epoch 87/100\n",
            "87/87 [==============================] - 3s 35ms/step - loss: 0.1317 - accuracy: 0.9502 - val_loss: 1.7318 - val_accuracy: 0.6378\n",
            "Epoch 88/100\n",
            "87/87 [==============================] - 3s 36ms/step - loss: 0.1351 - accuracy: 0.9520 - val_loss: 1.6253 - val_accuracy: 0.6364\n",
            "Epoch 89/100\n",
            "87/87 [==============================] - 3s 36ms/step - loss: 0.1090 - accuracy: 0.9578 - val_loss: 1.9079 - val_accuracy: 0.6450\n",
            "Epoch 90/100\n",
            "87/87 [==============================] - 3s 36ms/step - loss: 0.1194 - accuracy: 0.9488 - val_loss: 1.7672 - val_accuracy: 0.6364\n",
            "Epoch 91/100\n",
            "87/87 [==============================] - 3s 36ms/step - loss: 0.1190 - accuracy: 0.9524 - val_loss: 1.7807 - val_accuracy: 0.6291\n",
            "Epoch 92/100\n",
            "87/87 [==============================] - 3s 36ms/step - loss: 0.1416 - accuracy: 0.9448 - val_loss: 1.9121 - val_accuracy: 0.6364\n",
            "Epoch 93/100\n",
            "87/87 [==============================] - 3s 35ms/step - loss: 0.0863 - accuracy: 0.9643 - val_loss: 1.8934 - val_accuracy: 0.6378\n",
            "Epoch 94/100\n",
            "87/87 [==============================] - 3s 35ms/step - loss: 0.0786 - accuracy: 0.9719 - val_loss: 2.1712 - val_accuracy: 0.6465\n",
            "Epoch 95/100\n",
            "87/87 [==============================] - 3s 35ms/step - loss: 0.1002 - accuracy: 0.9607 - val_loss: 2.0057 - val_accuracy: 0.6465\n",
            "Epoch 96/100\n",
            "87/87 [==============================] - 3s 36ms/step - loss: 0.1205 - accuracy: 0.9524 - val_loss: 2.1491 - val_accuracy: 0.6378\n",
            "Epoch 97/100\n",
            "87/87 [==============================] - 3s 36ms/step - loss: 0.0980 - accuracy: 0.9647 - val_loss: 2.1904 - val_accuracy: 0.6465\n",
            "Epoch 98/100\n",
            "87/87 [==============================] - 3s 38ms/step - loss: 0.0671 - accuracy: 0.9758 - val_loss: 2.1211 - val_accuracy: 0.6392\n",
            "Epoch 99/100\n",
            "87/87 [==============================] - 3s 37ms/step - loss: 0.0669 - accuracy: 0.9776 - val_loss: 2.4543 - val_accuracy: 0.6291\n",
            "Epoch 100/100\n",
            "87/87 [==============================] - 3s 35ms/step - loss: 0.0892 - accuracy: 0.9654 - val_loss: 2.1075 - val_accuracy: 0.6277\n"
          ]
        }
      ]
    },
    {
      "cell_type": "code",
      "source": [
        "from matplotlib import pyplot as plt\n",
        "\n",
        "plt.plot(history.history['accuracy'])\n",
        "plt.plot(history.history['val_accuracy'])\n",
        "plt.ylabel('accuracy')\n",
        "plt.xlabel('epoch')\n",
        "plt.legend(['train', 'val'], loc='upper left')\n",
        "plt.show()"
      ],
      "metadata": {
        "colab": {
          "base_uri": "https://localhost:8080/",
          "height": 279
        },
        "id": "zFpXn0kGJRYu",
        "outputId": "08cb18a2-2bda-47c5-81d2-8330e0e6eaae"
      },
      "execution_count": null,
      "outputs": [
        {
          "output_type": "display_data",
          "data": {
            "text/plain": [
              "<Figure size 432x288 with 1 Axes>"
            ],
            "image/png": "[encoded data removed]"
          },
          "metadata": {
            "needs_background": "light"
          }
        }
      ]
    }
  ]
}