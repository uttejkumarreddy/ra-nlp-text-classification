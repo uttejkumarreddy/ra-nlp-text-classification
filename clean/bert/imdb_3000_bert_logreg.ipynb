{
  "nbformat": 4,
  "nbformat_minor": 0,
  "metadata": {
    "colab": {
      "provenance": []
    },
    "kernelspec": {
      "name": "python3",
      "display_name": "Python 3"
    },
    "language_info": {
      "name": "python"
    },
    "accelerator": "GPU",
    "gpuClass": "standard"
  },
  "cells": [
    {
      "cell_type": "code",
      "execution_count": 1,
      "metadata": {
        "colab": {
          "base_uri": "https://localhost:8080/"
        },
        "id": "RAhroSFWAjUD",
        "outputId": "4d811fce-b781-4f66-bbb2-634a07f8adda"
      },
      "outputs": [
        {
          "output_type": "stream",
          "name": "stdout",
          "text": [
            "Mounted at /content/drive\n"
          ]
        }
      ],
      "source": [
        "from google.colab import drive\n",
        "drive.mount('/content/drive')"
      ]
    },
    {
      "cell_type": "code",
      "source": [
        "import matplotlib.pyplot as plt\n",
        "import numpy as np\n",
        "import PIL\n",
        "import tensorflow as tf\n",
        "\n",
        "import pathlib\n",
        "\n",
        "from tensorflow import keras\n",
        "from tensorflow.keras import layers\n",
        "from tensorflow.keras.models import Sequential"
      ],
      "metadata": {
        "id": "oT7AM8lEAv5k"
      },
      "execution_count": 3,
      "outputs": []
    },
    {
      "cell_type": "code",
      "source": [
        "DATASET_LOCATION = '/content/drive/MyDrive/ai-playground/ra-text-classification-spectrogram/spectrograms/bert-imdb-3000-categorized'\n",
        "data_dir = pathlib.Path(DATASET_LOCATION)"
      ],
      "metadata": {
        "id": "7VUUpegAAw9v"
      },
      "execution_count": 4,
      "outputs": []
    },
    {
      "cell_type": "code",
      "source": [
        "TRAIN_FRACTION = 0.7\n",
        "batch_size = 32 # default batch size of data\n",
        "img_height = 224 # default height to which image is resized\n",
        "img_width = 224 # default width to which image is resized\n",
        "seed = 2022 # random seed for shuffling and transformations"
      ],
      "metadata": {
        "id": "Yry56UaoBLAY"
      },
      "execution_count": 5,
      "outputs": []
    },
    {
      "cell_type": "code",
      "source": [
        "ds_train = tf.keras.utils.image_dataset_from_directory(\n",
        "  data_dir,\n",
        "  validation_split = 1 - TRAIN_FRACTION,\n",
        "  subset = \"training\",\n",
        "  seed = seed,\n",
        "  image_size = (img_height, img_width),\n",
        "  batch_size = batch_size)"
      ],
      "metadata": {
        "colab": {
          "base_uri": "https://localhost:8080/"
        },
        "id": "D2roYZRMBQEK",
        "outputId": "36a4e0d9-0349-4dd4-ce68-153b6e0fb9ee"
      },
      "execution_count": 6,
      "outputs": [
        {
          "output_type": "stream",
          "name": "stdout",
          "text": [
            "Found 3466 files belonging to 2 classes.\n",
            "Using 2427 files for training.\n"
          ]
        }
      ]
    },
    {
      "cell_type": "code",
      "source": [
        "ds_val = tf.keras.utils.image_dataset_from_directory(\n",
        "  data_dir,\n",
        "  validation_split = 1 - TRAIN_FRACTION,\n",
        "  subset = \"validation\",\n",
        "  seed = seed,\n",
        "  image_size = (img_height, img_width),\n",
        "  batch_size = batch_size)"
      ],
      "metadata": {
        "colab": {
          "base_uri": "https://localhost:8080/"
        },
        "id": "ue5bkl0tBSwP",
        "outputId": "52194685-a760-4648-c13d-bf6a4abd578a"
      },
      "execution_count": 7,
      "outputs": [
        {
          "output_type": "stream",
          "name": "stdout",
          "text": [
            "Found 3466 files belonging to 2 classes.\n",
            "Using 1039 files for validation.\n"
          ]
        }
      ]
    },
    {
      "cell_type": "code",
      "source": [
        "AUTOTUNE = tf.data.AUTOTUNE\n",
        "\n",
        "train_ds = ds_train.cache().shuffle(1000).prefetch(buffer_size=AUTOTUNE)\n",
        "val_ds = ds_val.cache().prefetch(buffer_size=AUTOTUNE)"
      ],
      "metadata": {
        "id": "bx8Lek9IBUFP"
      },
      "execution_count": 8,
      "outputs": []
    },
    {
      "cell_type": "code",
      "source": [
        "normalization_layer = layers.Rescaling(1./255)"
      ],
      "metadata": {
        "id": "fB6k_V-XDZz2"
      },
      "execution_count": 9,
      "outputs": []
    },
    {
      "cell_type": "code",
      "source": [
        "normalized_ds = train_ds.map(lambda x, y: (normalization_layer(x), y))\n",
        "image_batch, labels_batch = next(iter(normalized_ds))"
      ],
      "metadata": {
        "id": "nNKbwTuuDbkv"
      },
      "execution_count": 10,
      "outputs": []
    },
    {
      "cell_type": "code",
      "source": [
        "class_names = ds_train.class_names\n",
        "num_classes = len(class_names)\n",
        "print(class_names)"
      ],
      "metadata": {
        "colab": {
          "base_uri": "https://localhost:8080/"
        },
        "id": "IFhkqBmNDfIG",
        "outputId": "b76b5695-47f5-49e6-dc76-a495bc3ce336"
      },
      "execution_count": 11,
      "outputs": [
        {
          "output_type": "stream",
          "name": "stdout",
          "text": [
            "['neg', 'pos']\n"
          ]
        }
      ]
    },
    {
      "cell_type": "code",
      "source": [
        "model = Sequential([\n",
        "  layers.Rescaling(1./255, input_shape=(img_height, img_width, 3)),\n",
        "  layers.Conv2D(16, 3, padding='same', activation='relu'),\n",
        "  layers.MaxPooling2D(),\n",
        "  layers.Conv2D(32, 3, padding='same', activation='relu'),\n",
        "  layers.MaxPooling2D(),\n",
        "  layers.Conv2D(64, 3, padding='same', activation='relu'),\n",
        "  layers.MaxPooling2D(),\n",
        "  layers.Flatten(),\n",
        "  layers.Dense(128, activation='relu'),\n",
        "  layers.Dense(1, activation='sigmoid')\n",
        "])"
      ],
      "metadata": {
        "id": "5BRzrbQzDgLu"
      },
      "execution_count": 12,
      "outputs": []
    },
    {
      "cell_type": "code",
      "source": [
        "model.compile(optimizer='adam',\n",
        "              loss=tf.keras.losses.binary_crossentropy,\n",
        "              metrics=['accuracy'])"
      ],
      "metadata": {
        "id": "8TUMtmluDhf3"
      },
      "execution_count": 13,
      "outputs": []
    },
    {
      "cell_type": "code",
      "source": [
        "epochs=100\n",
        "history = model.fit(\n",
        "  train_ds,\n",
        "  validation_data=val_ds,\n",
        "  epochs=epochs\n",
        ")"
      ],
      "metadata": {
        "colab": {
          "base_uri": "https://localhost:8080/"
        },
        "id": "cdgXLo_kDigW",
        "outputId": "e5bc4e22-37fb-49c7-f2f9-a29828e60c0f"
      },
      "execution_count": 14,
      "outputs": [
        {
          "output_type": "stream",
          "name": "stdout",
          "text": [
            "Epoch 1/100\n",
            "76/76 [==============================] - 214s 3s/step - loss: 0.7566 - accuracy: 0.5299 - val_loss: 0.6870 - val_accuracy: 0.5679\n",
            "Epoch 2/100\n",
            "76/76 [==============================] - 3s 40ms/step - loss: 0.6897 - accuracy: 0.5439 - val_loss: 0.6883 - val_accuracy: 0.5390\n",
            "Epoch 3/100\n",
            "76/76 [==============================] - 3s 38ms/step - loss: 0.6896 - accuracy: 0.5455 - val_loss: 0.6868 - val_accuracy: 0.5390\n",
            "Epoch 4/100\n",
            "76/76 [==============================] - 3s 39ms/step - loss: 0.6826 - accuracy: 0.5550 - val_loss: 0.6819 - val_accuracy: 0.5804\n",
            "Epoch 5/100\n",
            "76/76 [==============================] - 3s 38ms/step - loss: 0.6634 - accuracy: 0.6016 - val_loss: 0.6510 - val_accuracy: 0.6025\n",
            "Epoch 6/100\n",
            "76/76 [==============================] - 3s 38ms/step - loss: 0.6333 - accuracy: 0.6403 - val_loss: 0.6370 - val_accuracy: 0.6150\n",
            "Epoch 7/100\n",
            "76/76 [==============================] - 3s 38ms/step - loss: 0.6152 - accuracy: 0.6576 - val_loss: 0.6100 - val_accuracy: 0.6679\n",
            "Epoch 8/100\n",
            "76/76 [==============================] - 3s 38ms/step - loss: 0.6100 - accuracy: 0.6700 - val_loss: 0.6248 - val_accuracy: 0.6535\n",
            "Epoch 9/100\n",
            "76/76 [==============================] - 3s 38ms/step - loss: 0.6068 - accuracy: 0.6654 - val_loss: 0.6118 - val_accuracy: 0.6670\n",
            "Epoch 10/100\n",
            "76/76 [==============================] - 3s 38ms/step - loss: 0.5947 - accuracy: 0.6840 - val_loss: 0.6140 - val_accuracy: 0.6593\n",
            "Epoch 11/100\n",
            "76/76 [==============================] - 3s 38ms/step - loss: 0.5825 - accuracy: 0.6885 - val_loss: 0.6053 - val_accuracy: 0.6622\n",
            "Epoch 12/100\n",
            "76/76 [==============================] - 3s 38ms/step - loss: 0.5715 - accuracy: 0.6955 - val_loss: 0.6031 - val_accuracy: 0.6708\n",
            "Epoch 13/100\n",
            "76/76 [==============================] - 3s 38ms/step - loss: 0.5653 - accuracy: 0.7021 - val_loss: 0.6059 - val_accuracy: 0.6824\n",
            "Epoch 14/100\n",
            "76/76 [==============================] - 3s 38ms/step - loss: 0.5664 - accuracy: 0.7054 - val_loss: 0.6014 - val_accuracy: 0.6756\n",
            "Epoch 15/100\n",
            "76/76 [==============================] - 3s 38ms/step - loss: 0.5717 - accuracy: 0.6976 - val_loss: 0.6269 - val_accuracy: 0.6728\n",
            "Epoch 16/100\n",
            "76/76 [==============================] - 3s 38ms/step - loss: 0.5514 - accuracy: 0.7153 - val_loss: 0.6060 - val_accuracy: 0.6631\n",
            "Epoch 17/100\n",
            "76/76 [==============================] - 3s 38ms/step - loss: 0.5528 - accuracy: 0.7194 - val_loss: 0.6056 - val_accuracy: 0.6756\n",
            "Epoch 18/100\n",
            "76/76 [==============================] - 3s 37ms/step - loss: 0.5455 - accuracy: 0.7235 - val_loss: 0.6026 - val_accuracy: 0.6824\n",
            "Epoch 19/100\n",
            "76/76 [==============================] - 3s 37ms/step - loss: 0.5420 - accuracy: 0.7231 - val_loss: 0.6331 - val_accuracy: 0.6670\n",
            "Epoch 20/100\n",
            "76/76 [==============================] - 3s 38ms/step - loss: 0.5479 - accuracy: 0.7087 - val_loss: 0.6144 - val_accuracy: 0.6651\n",
            "Epoch 21/100\n",
            "76/76 [==============================] - 3s 38ms/step - loss: 0.5339 - accuracy: 0.7293 - val_loss: 0.6185 - val_accuracy: 0.6747\n",
            "Epoch 22/100\n",
            "76/76 [==============================] - 3s 37ms/step - loss: 0.5329 - accuracy: 0.7347 - val_loss: 0.5994 - val_accuracy: 0.6939\n",
            "Epoch 23/100\n",
            "76/76 [==============================] - 3s 38ms/step - loss: 0.5319 - accuracy: 0.7305 - val_loss: 0.6018 - val_accuracy: 0.6939\n",
            "Epoch 24/100\n",
            "76/76 [==============================] - 3s 38ms/step - loss: 0.5189 - accuracy: 0.7379 - val_loss: 0.6154 - val_accuracy: 0.6910\n",
            "Epoch 25/100\n",
            "76/76 [==============================] - 3s 38ms/step - loss: 0.5206 - accuracy: 0.7309 - val_loss: 0.6180 - val_accuracy: 0.6805\n",
            "Epoch 26/100\n",
            "76/76 [==============================] - 3s 38ms/step - loss: 0.5165 - accuracy: 0.7297 - val_loss: 0.6112 - val_accuracy: 0.6747\n",
            "Epoch 27/100\n",
            "76/76 [==============================] - 3s 37ms/step - loss: 0.5093 - accuracy: 0.7499 - val_loss: 0.6219 - val_accuracy: 0.6689\n",
            "Epoch 28/100\n",
            "76/76 [==============================] - 3s 38ms/step - loss: 0.5007 - accuracy: 0.7565 - val_loss: 0.6186 - val_accuracy: 0.6776\n",
            "Epoch 29/100\n",
            "76/76 [==============================] - 3s 38ms/step - loss: 0.5088 - accuracy: 0.7524 - val_loss: 0.6295 - val_accuracy: 0.6699\n",
            "Epoch 30/100\n",
            "76/76 [==============================] - 3s 38ms/step - loss: 0.4971 - accuracy: 0.7548 - val_loss: 0.6289 - val_accuracy: 0.6795\n",
            "Epoch 31/100\n",
            "76/76 [==============================] - 3s 38ms/step - loss: 0.4987 - accuracy: 0.7503 - val_loss: 0.6836 - val_accuracy: 0.6468\n",
            "Epoch 32/100\n",
            "76/76 [==============================] - 3s 39ms/step - loss: 0.4958 - accuracy: 0.7618 - val_loss: 0.6423 - val_accuracy: 0.6756\n",
            "Epoch 33/100\n",
            "76/76 [==============================] - 3s 38ms/step - loss: 0.4817 - accuracy: 0.7606 - val_loss: 0.6393 - val_accuracy: 0.6833\n",
            "Epoch 34/100\n",
            "76/76 [==============================] - 3s 38ms/step - loss: 0.4845 - accuracy: 0.7639 - val_loss: 0.6307 - val_accuracy: 0.6776\n",
            "Epoch 35/100\n",
            "76/76 [==============================] - 3s 38ms/step - loss: 0.4723 - accuracy: 0.7689 - val_loss: 0.6676 - val_accuracy: 0.6882\n",
            "Epoch 36/100\n",
            "76/76 [==============================] - 3s 39ms/step - loss: 0.5081 - accuracy: 0.7417 - val_loss: 0.6610 - val_accuracy: 0.6458\n",
            "Epoch 37/100\n",
            "76/76 [==============================] - 3s 38ms/step - loss: 0.4598 - accuracy: 0.7746 - val_loss: 0.6548 - val_accuracy: 0.6670\n",
            "Epoch 38/100\n",
            "76/76 [==============================] - 3s 38ms/step - loss: 0.4621 - accuracy: 0.7759 - val_loss: 0.6622 - val_accuracy: 0.6862\n",
            "Epoch 39/100\n",
            "76/76 [==============================] - 3s 39ms/step - loss: 0.4609 - accuracy: 0.7833 - val_loss: 0.6431 - val_accuracy: 0.6776\n",
            "Epoch 40/100\n",
            "76/76 [==============================] - 3s 38ms/step - loss: 0.4629 - accuracy: 0.7787 - val_loss: 0.6404 - val_accuracy: 0.6766\n",
            "Epoch 41/100\n",
            "76/76 [==============================] - 3s 38ms/step - loss: 0.4452 - accuracy: 0.7882 - val_loss: 0.6983 - val_accuracy: 0.6679\n",
            "Epoch 42/100\n",
            "76/76 [==============================] - 3s 38ms/step - loss: 0.4409 - accuracy: 0.7853 - val_loss: 0.6889 - val_accuracy: 0.6728\n",
            "Epoch 43/100\n",
            "76/76 [==============================] - 3s 38ms/step - loss: 0.4362 - accuracy: 0.7886 - val_loss: 0.7159 - val_accuracy: 0.6641\n",
            "Epoch 44/100\n",
            "76/76 [==============================] - 3s 38ms/step - loss: 0.4439 - accuracy: 0.7820 - val_loss: 0.6555 - val_accuracy: 0.6795\n",
            "Epoch 45/100\n",
            "76/76 [==============================] - 3s 37ms/step - loss: 0.4338 - accuracy: 0.7882 - val_loss: 0.7217 - val_accuracy: 0.6641\n",
            "Epoch 46/100\n",
            "76/76 [==============================] - 3s 38ms/step - loss: 0.4233 - accuracy: 0.7923 - val_loss: 0.6877 - val_accuracy: 0.6795\n",
            "Epoch 47/100\n",
            "76/76 [==============================] - 3s 38ms/step - loss: 0.4023 - accuracy: 0.8158 - val_loss: 0.7405 - val_accuracy: 0.6679\n",
            "Epoch 48/100\n",
            "76/76 [==============================] - 3s 38ms/step - loss: 0.4223 - accuracy: 0.8010 - val_loss: 0.7256 - val_accuracy: 0.6756\n",
            "Epoch 49/100\n",
            "76/76 [==============================] - 3s 38ms/step - loss: 0.4077 - accuracy: 0.8088 - val_loss: 0.7685 - val_accuracy: 0.6776\n",
            "Epoch 50/100\n",
            "76/76 [==============================] - 3s 38ms/step - loss: 0.4037 - accuracy: 0.8059 - val_loss: 0.7284 - val_accuracy: 0.6583\n",
            "Epoch 51/100\n",
            "76/76 [==============================] - 3s 38ms/step - loss: 0.4012 - accuracy: 0.8047 - val_loss: 0.7860 - val_accuracy: 0.6622\n",
            "Epoch 52/100\n",
            "76/76 [==============================] - 3s 38ms/step - loss: 0.4151 - accuracy: 0.8006 - val_loss: 0.7416 - val_accuracy: 0.6756\n",
            "Epoch 53/100\n",
            "76/76 [==============================] - 3s 38ms/step - loss: 0.3886 - accuracy: 0.8183 - val_loss: 0.7311 - val_accuracy: 0.6535\n",
            "Epoch 54/100\n",
            "76/76 [==============================] - 3s 38ms/step - loss: 0.3882 - accuracy: 0.8216 - val_loss: 0.7690 - val_accuracy: 0.6651\n",
            "Epoch 55/100\n",
            "76/76 [==============================] - 3s 38ms/step - loss: 0.3821 - accuracy: 0.8232 - val_loss: 0.8345 - val_accuracy: 0.6497\n",
            "Epoch 56/100\n",
            "76/76 [==============================] - 3s 38ms/step - loss: 0.3835 - accuracy: 0.8241 - val_loss: 0.7607 - val_accuracy: 0.6468\n",
            "Epoch 57/100\n",
            "76/76 [==============================] - 3s 38ms/step - loss: 0.3467 - accuracy: 0.8455 - val_loss: 0.8439 - val_accuracy: 0.6526\n",
            "Epoch 58/100\n",
            "76/76 [==============================] - 3s 38ms/step - loss: 0.3546 - accuracy: 0.8364 - val_loss: 0.8468 - val_accuracy: 0.6660\n",
            "Epoch 59/100\n",
            "76/76 [==============================] - 3s 37ms/step - loss: 0.3516 - accuracy: 0.8356 - val_loss: 0.8171 - val_accuracy: 0.6737\n",
            "Epoch 60/100\n",
            "76/76 [==============================] - 3s 38ms/step - loss: 0.3546 - accuracy: 0.8377 - val_loss: 0.8730 - val_accuracy: 0.6631\n",
            "Epoch 61/100\n",
            "76/76 [==============================] - 3s 38ms/step - loss: 0.3738 - accuracy: 0.8191 - val_loss: 0.8616 - val_accuracy: 0.6516\n",
            "Epoch 62/100\n",
            "76/76 [==============================] - 3s 38ms/step - loss: 0.3324 - accuracy: 0.8418 - val_loss: 0.8518 - val_accuracy: 0.6574\n",
            "Epoch 63/100\n",
            "76/76 [==============================] - 3s 37ms/step - loss: 0.3229 - accuracy: 0.8525 - val_loss: 0.8917 - val_accuracy: 0.6449\n",
            "Epoch 64/100\n",
            "76/76 [==============================] - 3s 38ms/step - loss: 0.3286 - accuracy: 0.8401 - val_loss: 0.8944 - val_accuracy: 0.6679\n",
            "Epoch 65/100\n",
            "76/76 [==============================] - 3s 38ms/step - loss: 0.3149 - accuracy: 0.8554 - val_loss: 0.8760 - val_accuracy: 0.6535\n",
            "Epoch 66/100\n",
            "76/76 [==============================] - 3s 38ms/step - loss: 0.3114 - accuracy: 0.8562 - val_loss: 0.8804 - val_accuracy: 0.6679\n",
            "Epoch 67/100\n",
            "76/76 [==============================] - 3s 38ms/step - loss: 0.2980 - accuracy: 0.8723 - val_loss: 0.9873 - val_accuracy: 0.6670\n",
            "Epoch 68/100\n",
            "76/76 [==============================] - 3s 40ms/step - loss: 0.3205 - accuracy: 0.8492 - val_loss: 0.9458 - val_accuracy: 0.6708\n",
            "Epoch 69/100\n",
            "76/76 [==============================] - 3s 39ms/step - loss: 0.3113 - accuracy: 0.8562 - val_loss: 0.8824 - val_accuracy: 0.6564\n",
            "Epoch 70/100\n",
            "76/76 [==============================] - 3s 38ms/step - loss: 0.3054 - accuracy: 0.8640 - val_loss: 1.0648 - val_accuracy: 0.6612\n",
            "Epoch 71/100\n",
            "76/76 [==============================] - 3s 38ms/step - loss: 0.2967 - accuracy: 0.8628 - val_loss: 0.9581 - val_accuracy: 0.6468\n",
            "Epoch 72/100\n",
            "76/76 [==============================] - 3s 38ms/step - loss: 0.3028 - accuracy: 0.8607 - val_loss: 0.9434 - val_accuracy: 0.6477\n",
            "Epoch 73/100\n",
            "76/76 [==============================] - 3s 38ms/step - loss: 0.2639 - accuracy: 0.8830 - val_loss: 1.0255 - val_accuracy: 0.6574\n",
            "Epoch 74/100\n",
            "76/76 [==============================] - 3s 38ms/step - loss: 0.2927 - accuracy: 0.8628 - val_loss: 1.0086 - val_accuracy: 0.6641\n",
            "Epoch 75/100\n",
            "76/76 [==============================] - 3s 38ms/step - loss: 0.2536 - accuracy: 0.8859 - val_loss: 1.0653 - val_accuracy: 0.6641\n",
            "Epoch 76/100\n",
            "76/76 [==============================] - 3s 38ms/step - loss: 0.2504 - accuracy: 0.8896 - val_loss: 1.0676 - val_accuracy: 0.6477\n",
            "Epoch 77/100\n",
            "76/76 [==============================] - 3s 38ms/step - loss: 0.2502 - accuracy: 0.8920 - val_loss: 1.1031 - val_accuracy: 0.6439\n",
            "Epoch 78/100\n",
            "76/76 [==============================] - 3s 38ms/step - loss: 0.2426 - accuracy: 0.8933 - val_loss: 1.1983 - val_accuracy: 0.6420\n",
            "Epoch 79/100\n",
            "76/76 [==============================] - 3s 38ms/step - loss: 0.2489 - accuracy: 0.8871 - val_loss: 1.0704 - val_accuracy: 0.6477\n",
            "Epoch 80/100\n",
            "76/76 [==============================] - 3s 38ms/step - loss: 0.2238 - accuracy: 0.9065 - val_loss: 1.1253 - val_accuracy: 0.6526\n",
            "Epoch 81/100\n",
            "76/76 [==============================] - 3s 38ms/step - loss: 0.2684 - accuracy: 0.8813 - val_loss: 1.2737 - val_accuracy: 0.6545\n",
            "Epoch 82/100\n",
            "76/76 [==============================] - 3s 38ms/step - loss: 0.2094 - accuracy: 0.9089 - val_loss: 1.4104 - val_accuracy: 0.6574\n",
            "Epoch 83/100\n",
            "76/76 [==============================] - 3s 38ms/step - loss: 0.2376 - accuracy: 0.8908 - val_loss: 1.1595 - val_accuracy: 0.6631\n",
            "Epoch 84/100\n",
            "76/76 [==============================] - 3s 38ms/step - loss: 0.2199 - accuracy: 0.9052 - val_loss: 1.2422 - val_accuracy: 0.6574\n",
            "Epoch 85/100\n",
            "76/76 [==============================] - 3s 39ms/step - loss: 0.2156 - accuracy: 0.9098 - val_loss: 1.2985 - val_accuracy: 0.6622\n",
            "Epoch 86/100\n",
            "76/76 [==============================] - 3s 38ms/step - loss: 0.2133 - accuracy: 0.9028 - val_loss: 1.5040 - val_accuracy: 0.6583\n",
            "Epoch 87/100\n",
            "76/76 [==============================] - 3s 38ms/step - loss: 0.2169 - accuracy: 0.9019 - val_loss: 1.3555 - val_accuracy: 0.6545\n",
            "Epoch 88/100\n",
            "76/76 [==============================] - 3s 38ms/step - loss: 0.1730 - accuracy: 0.9337 - val_loss: 1.3735 - val_accuracy: 0.6603\n",
            "Epoch 89/100\n",
            "76/76 [==============================] - 3s 38ms/step - loss: 0.2067 - accuracy: 0.9135 - val_loss: 1.4387 - val_accuracy: 0.6603\n",
            "Epoch 90/100\n",
            "76/76 [==============================] - 3s 38ms/step - loss: 0.1902 - accuracy: 0.9238 - val_loss: 1.3994 - val_accuracy: 0.6420\n",
            "Epoch 91/100\n",
            "76/76 [==============================] - 3s 38ms/step - loss: 0.2151 - accuracy: 0.9056 - val_loss: 1.3390 - val_accuracy: 0.6526\n",
            "Epoch 92/100\n",
            "76/76 [==============================] - 3s 39ms/step - loss: 0.1938 - accuracy: 0.9135 - val_loss: 1.3415 - val_accuracy: 0.6506\n",
            "Epoch 93/100\n",
            "76/76 [==============================] - 3s 38ms/step - loss: 0.1888 - accuracy: 0.9201 - val_loss: 1.3000 - val_accuracy: 0.6487\n",
            "Epoch 94/100\n",
            "76/76 [==============================] - 3s 38ms/step - loss: 0.1717 - accuracy: 0.9267 - val_loss: 1.5028 - val_accuracy: 0.6439\n",
            "Epoch 95/100\n",
            "76/76 [==============================] - 3s 39ms/step - loss: 0.1591 - accuracy: 0.9324 - val_loss: 1.4690 - val_accuracy: 0.6574\n",
            "Epoch 96/100\n",
            "76/76 [==============================] - 3s 38ms/step - loss: 0.1372 - accuracy: 0.9468 - val_loss: 1.4737 - val_accuracy: 0.6535\n",
            "Epoch 97/100\n",
            "76/76 [==============================] - 3s 38ms/step - loss: 0.2105 - accuracy: 0.9085 - val_loss: 1.4427 - val_accuracy: 0.6612\n",
            "Epoch 98/100\n",
            "76/76 [==============================] - 3s 38ms/step - loss: 0.1904 - accuracy: 0.9151 - val_loss: 1.5086 - val_accuracy: 0.6266\n",
            "Epoch 99/100\n",
            "76/76 [==============================] - 3s 38ms/step - loss: 0.1468 - accuracy: 0.9403 - val_loss: 1.5680 - val_accuracy: 0.6516\n",
            "Epoch 100/100\n",
            "76/76 [==============================] - 3s 38ms/step - loss: 0.1537 - accuracy: 0.9324 - val_loss: 1.5092 - val_accuracy: 0.6477\n"
          ]
        }
      ]
    },
    {
      "cell_type": "code",
      "source": [
        "from matplotlib import pyplot as plt\n",
        "\n",
        "plt.plot(history.history['accuracy'])\n",
        "plt.plot(history.history['val_accuracy'])\n",
        "plt.ylabel('accuracy')\n",
        "plt.xlabel('epoch')\n",
        "plt.legend(['train', 'val'], loc='upper left')\n",
        "plt.show()"
      ],
      "metadata": {
        "colab": {
          "base_uri": "https://localhost:8080/",
          "height": 279
        },
        "id": "zFpXn0kGJRYu",
        "outputId": "08cb18a2-2bda-47c5-81d2-8330e0e6eaae"
      },
      "execution_count": 15,
      "outputs": [
        {
          "output_type": "display_data",
          "data": {
            "text/plain": [
              "<Figure size 432x288 with 1 Axes>"
            ],
            "image/png": "[encoded data removed]"
          },
          "metadata": {
            "needs_background": "light"
          }
        }
      ]
    }
  ]
}