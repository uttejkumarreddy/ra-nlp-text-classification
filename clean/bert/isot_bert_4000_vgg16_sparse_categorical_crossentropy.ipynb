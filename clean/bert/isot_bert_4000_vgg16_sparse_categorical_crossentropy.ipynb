{
  "nbformat": 4,
  "nbformat_minor": 0,
  "metadata": {
    "colab": {
      "provenance": []
    },
    "kernelspec": {
      "name": "python3",
      "display_name": "Python 3"
    },
    "language_info": {
      "name": "python"
    },
    "accelerator": "GPU",
    "gpuClass": "standard"
  },
  "cells": [
    {
      "cell_type": "code",
      "execution_count": null,
      "metadata": {
        "id": "hVThO9Pi_ueR",
        "colab": {
          "base_uri": "https://localhost:8080/"
        },
        "outputId": "e6c0ac59-ff51-4956-fc11-54bd6d23ac45"
      },
      "outputs": [
        {
          "output_type": "stream",
          "name": "stdout",
          "text": [
            "Mounted at /content/drive\n"
          ]
        }
      ],
      "source": [
        "from google.colab import drive\n",
        "drive.mount('/content/drive')"
      ]
    },
    {
      "cell_type": "code",
      "source": [
        "import os\n",
        "import cv2\n",
        "from PIL import Image\n",
        "import tensorflow as tf\n",
        "from keras import backend as K\n",
        "from keras.models import load_model\n",
        "from tensorflow.keras.preprocessing.image import img_to_array\n",
        "from tensorflow.keras.optimizers import Adam, RMSprop\n",
        "from tensorflow.keras.callbacks import ReduceLROnPlateau\n",
        "from tensorflow.keras.preprocessing.image import ImageDataGenerator\n",
        "import matplotlib.pyplot as plt\n",
        "\n",
        "import matplotlib.pyplot as plt\n",
        "import numpy as np\n",
        "import PIL\n",
        "import tensorflow as tf\n",
        "\n",
        "import pathlib\n",
        "\n",
        "from tensorflow import keras\n",
        "from tensorflow.keras import layers\n",
        "from tensorflow.keras.models import Sequential"
      ],
      "metadata": {
        "id": "lphVCqoCnagY"
      },
      "execution_count": null,
      "outputs": []
    },
    {
      "cell_type": "code",
      "source": [
        "DATASET_LOCATION = '/content/drive/MyDrive/ai-playground/ra-text-classification-spectrogram/spectrograms/bert-isot4000'\n",
        "data_dir = pathlib.Path(DATASET_LOCATION)"
      ],
      "metadata": {
        "id": "aWEsFWQ5nkgY"
      },
      "execution_count": null,
      "outputs": []
    },
    {
      "cell_type": "code",
      "source": [
        "TRAIN_FRACTION = 0.8\n",
        "batch_size = 32 # default batch size of data\n",
        "img_height = 224 # default height to which image is resized\n",
        "img_width = 224 # default width to which image is resized\n",
        "seed = 2022 # random seed for shuffling and transformations"
      ],
      "metadata": {
        "id": "Hi3tAxrLntI4"
      },
      "execution_count": null,
      "outputs": []
    },
    {
      "cell_type": "code",
      "source": [
        "ds_train = tf.keras.utils.image_dataset_from_directory(\n",
        "  data_dir,\n",
        "  validation_split = 1 - TRAIN_FRACTION,\n",
        "  subset = \"training\",\n",
        "  seed = seed,\n",
        "  image_size = (img_height, img_width),\n",
        "  batch_size = batch_size)"
      ],
      "metadata": {
        "colab": {
          "base_uri": "https://localhost:8080/"
        },
        "id": "CO4Z0iZWnuO8",
        "outputId": "e1f4fa25-e825-4710-9441-38114b5874c6"
      },
      "execution_count": null,
      "outputs": [
        {
          "output_type": "stream",
          "name": "stdout",
          "text": [
            "Found 3032 files belonging to 2 classes.\n",
            "Using 2426 files for training.\n"
          ]
        }
      ]
    },
    {
      "cell_type": "code",
      "source": [
        "ds_val = tf.keras.utils.image_dataset_from_directory(\n",
        "  data_dir,\n",
        "  validation_split = 1 - TRAIN_FRACTION,\n",
        "  subset = \"validation\",\n",
        "  seed = seed,\n",
        "  image_size = (img_height, img_width),\n",
        "  batch_size = batch_size)"
      ],
      "metadata": {
        "colab": {
          "base_uri": "https://localhost:8080/"
        },
        "id": "nAx33XQOnvW8",
        "outputId": "7ce86a1f-d3b9-4023-daa5-77666b06746c"
      },
      "execution_count": null,
      "outputs": [
        {
          "output_type": "stream",
          "name": "stdout",
          "text": [
            "Found 3032 files belonging to 2 classes.\n",
            "Using 606 files for validation.\n"
          ]
        }
      ]
    },
    {
      "cell_type": "code",
      "source": [
        "AUTOTUNE = tf.data.AUTOTUNE\n",
        "\n",
        "train_ds = ds_train.cache().shuffle(1000).prefetch(buffer_size=AUTOTUNE)\n",
        "val_ds = ds_val.cache().prefetch(buffer_size=AUTOTUNE)"
      ],
      "metadata": {
        "id": "WY55aboboZS4"
      },
      "execution_count": null,
      "outputs": []
    },
    {
      "cell_type": "code",
      "source": [
        "pre_trained_model = tf.keras.applications.VGG16(input_shape=(224, 224, 3), include_top=False, weights=\"imagenet\")"
      ],
      "metadata": {
        "id": "x3ozMopKn10o"
      },
      "execution_count": null,
      "outputs": []
    },
    {
      "cell_type": "code",
      "source": [
        "for layer in pre_trained_model.layers:\n",
        "  layer.trainable = False"
      ],
      "metadata": {
        "id": "jKxRtgK6n_4T"
      },
      "execution_count": null,
      "outputs": []
    },
    {
      "cell_type": "code",
      "source": [
        "last_layer = pre_trained_model.get_layer('block5_pool')\n",
        "last_output = last_layer.output\n",
        "x = tf.keras.layers.GlobalMaxPooling2D()(last_output)\n",
        "x = tf.keras.layers.Dense(512, activation='relu')(x)\n",
        "x = tf.keras.layers.Dropout(0.5)(x)\n",
        "x = tf.keras.layers.Dense(2, activation='sigmoid')(x)"
      ],
      "metadata": {
        "id": "74yakO0IoBuP"
      },
      "execution_count": null,
      "outputs": []
    },
    {
      "cell_type": "code",
      "source": [
        "model = tf.keras.Model(pre_trained_model.input, x)"
      ],
      "metadata": {
        "id": "VC_5ZnWUoDDr"
      },
      "execution_count": null,
      "outputs": []
    },
    {
      "cell_type": "code",
      "source": [
        "model.compile(optimizer='adam', loss=tf.keras.losses.sparse_categorical_crossentropy, metrics=['accuracy'])"
      ],
      "metadata": {
        "id": "wpwGVH2loEb4"
      },
      "execution_count": null,
      "outputs": []
    },
    {
      "cell_type": "code",
      "source": [
        "epochs=100\n",
        "history = model.fit(\n",
        "  train_ds,\n",
        "  validation_data=val_ds,\n",
        "  epochs=epochs\n",
        ")"
      ],
      "metadata": {
        "colab": {
          "base_uri": "https://localhost:8080/"
        },
        "id": "eC16_Ou7oKpA",
        "outputId": "c1f6e58c-cac0-4d87-d7c4-a342dab32e45"
      },
      "execution_count": null,
      "outputs": [
        {
          "output_type": "stream",
          "name": "stdout",
          "text": [
            "Epoch 1/100\n",
            "76/76 [==============================] - 15s 193ms/step - loss: 9.4317 - accuracy: 0.5808 - val_loss: 1.2032 - val_accuracy: 0.7277\n",
            "Epoch 2/100\n",
            "76/76 [==============================] - 14s 188ms/step - loss: 1.6048 - accuracy: 0.6546 - val_loss: 0.5175 - val_accuracy: 0.7723\n",
            "Epoch 3/100\n",
            "76/76 [==============================] - 14s 186ms/step - loss: 0.6553 - accuracy: 0.7230 - val_loss: 0.5138 - val_accuracy: 0.7327\n",
            "Epoch 4/100\n",
            "76/76 [==============================] - 14s 184ms/step - loss: 0.5542 - accuracy: 0.7378 - val_loss: 0.4565 - val_accuracy: 0.7954\n",
            "Epoch 5/100\n",
            "76/76 [==============================] - 14s 186ms/step - loss: 0.5385 - accuracy: 0.7514 - val_loss: 0.4291 - val_accuracy: 0.8218\n",
            "Epoch 6/100\n",
            "76/76 [==============================] - 14s 188ms/step - loss: 0.5153 - accuracy: 0.7535 - val_loss: 0.4308 - val_accuracy: 0.8102\n",
            "Epoch 7/100\n",
            "76/76 [==============================] - 14s 186ms/step - loss: 0.4944 - accuracy: 0.7572 - val_loss: 0.4769 - val_accuracy: 0.7574\n",
            "Epoch 8/100\n",
            "76/76 [==============================] - 14s 186ms/step - loss: 0.4898 - accuracy: 0.7696 - val_loss: 0.4290 - val_accuracy: 0.8036\n",
            "Epoch 9/100\n",
            "76/76 [==============================] - 14s 186ms/step - loss: 0.4884 - accuracy: 0.7762 - val_loss: 0.4486 - val_accuracy: 0.7789\n",
            "Epoch 10/100\n",
            "76/76 [==============================] - 14s 186ms/step - loss: 0.4839 - accuracy: 0.7679 - val_loss: 0.4702 - val_accuracy: 0.8102\n",
            "Epoch 11/100\n",
            "76/76 [==============================] - 14s 186ms/step - loss: 0.4879 - accuracy: 0.7638 - val_loss: 0.4858 - val_accuracy: 0.7640\n",
            "Epoch 12/100\n",
            "76/76 [==============================] - 14s 186ms/step - loss: 0.4937 - accuracy: 0.7572 - val_loss: 0.4379 - val_accuracy: 0.8152\n",
            "Epoch 13/100\n",
            "76/76 [==============================] - 14s 186ms/step - loss: 0.5035 - accuracy: 0.7564 - val_loss: 0.4473 - val_accuracy: 0.7904\n",
            "Epoch 14/100\n",
            "76/76 [==============================] - 14s 186ms/step - loss: 0.4915 - accuracy: 0.7622 - val_loss: 0.4138 - val_accuracy: 0.8251\n",
            "Epoch 15/100\n",
            "76/76 [==============================] - 14s 185ms/step - loss: 0.5125 - accuracy: 0.7514 - val_loss: 0.4699 - val_accuracy: 0.8020\n",
            "Epoch 16/100\n",
            "76/76 [==============================] - 14s 187ms/step - loss: 0.5258 - accuracy: 0.7308 - val_loss: 0.4501 - val_accuracy: 0.8201\n",
            "Epoch 17/100\n",
            "76/76 [==============================] - 14s 186ms/step - loss: 0.5078 - accuracy: 0.7486 - val_loss: 0.5051 - val_accuracy: 0.7591\n",
            "Epoch 18/100\n",
            "76/76 [==============================] - 14s 187ms/step - loss: 0.5117 - accuracy: 0.7387 - val_loss: 0.4371 - val_accuracy: 0.8135\n",
            "Epoch 19/100\n",
            "76/76 [==============================] - 14s 186ms/step - loss: 0.4963 - accuracy: 0.7519 - val_loss: 0.5204 - val_accuracy: 0.7475\n",
            "Epoch 20/100\n",
            "76/76 [==============================] - 14s 185ms/step - loss: 0.5487 - accuracy: 0.6974 - val_loss: 0.4773 - val_accuracy: 0.8251\n",
            "Epoch 21/100\n",
            "76/76 [==============================] - 14s 186ms/step - loss: 0.5293 - accuracy: 0.7185 - val_loss: 0.4465 - val_accuracy: 0.8003\n",
            "Epoch 22/100\n",
            "76/76 [==============================] - 14s 186ms/step - loss: 0.5122 - accuracy: 0.7329 - val_loss: 0.4648 - val_accuracy: 0.8069\n",
            "Epoch 23/100\n",
            "76/76 [==============================] - 14s 186ms/step - loss: 0.4997 - accuracy: 0.7391 - val_loss: 0.4540 - val_accuracy: 0.8003\n",
            "Epoch 24/100\n",
            "76/76 [==============================] - 14s 187ms/step - loss: 0.5190 - accuracy: 0.7271 - val_loss: 0.4570 - val_accuracy: 0.8284\n",
            "Epoch 25/100\n",
            "76/76 [==============================] - 14s 186ms/step - loss: 0.5183 - accuracy: 0.6917 - val_loss: 0.5005 - val_accuracy: 0.8003\n",
            "Epoch 26/100\n",
            "76/76 [==============================] - 14s 187ms/step - loss: 0.5120 - accuracy: 0.7308 - val_loss: 0.4072 - val_accuracy: 0.8449\n",
            "Epoch 27/100\n",
            "76/76 [==============================] - 14s 186ms/step - loss: 0.5137 - accuracy: 0.7251 - val_loss: 0.4665 - val_accuracy: 0.8185\n",
            "Epoch 28/100\n",
            "76/76 [==============================] - 14s 186ms/step - loss: 0.5121 - accuracy: 0.7251 - val_loss: 0.4815 - val_accuracy: 0.8185\n",
            "Epoch 29/100\n",
            "76/76 [==============================] - 14s 186ms/step - loss: 0.5620 - accuracy: 0.6583 - val_loss: 0.4466 - val_accuracy: 0.8201\n",
            "Epoch 30/100\n",
            "76/76 [==============================] - 14s 187ms/step - loss: 0.5153 - accuracy: 0.6727 - val_loss: 0.4764 - val_accuracy: 0.8234\n",
            "Epoch 31/100\n",
            "76/76 [==============================] - 14s 186ms/step - loss: 0.5382 - accuracy: 0.6731 - val_loss: 0.5401 - val_accuracy: 0.6073\n",
            "Epoch 32/100\n",
            "76/76 [==============================] - 14s 186ms/step - loss: 0.5675 - accuracy: 0.6311 - val_loss: 0.5090 - val_accuracy: 0.8300\n",
            "Epoch 33/100\n",
            "76/76 [==============================] - 14s 186ms/step - loss: 0.5708 - accuracy: 0.6871 - val_loss: 0.4904 - val_accuracy: 0.7937\n",
            "Epoch 34/100\n",
            "76/76 [==============================] - 14s 185ms/step - loss: 0.5454 - accuracy: 0.6941 - val_loss: 0.4222 - val_accuracy: 0.8432\n",
            "Epoch 35/100\n",
            "76/76 [==============================] - 14s 186ms/step - loss: 0.5361 - accuracy: 0.6958 - val_loss: 0.4624 - val_accuracy: 0.8053\n",
            "Epoch 36/100\n",
            "76/76 [==============================] - 14s 186ms/step - loss: 0.5725 - accuracy: 0.6777 - val_loss: 0.4909 - val_accuracy: 0.8317\n",
            "Epoch 37/100\n",
            "76/76 [==============================] - 14s 186ms/step - loss: 0.5900 - accuracy: 0.6698 - val_loss: 0.4806 - val_accuracy: 0.8251\n",
            "Epoch 38/100\n",
            "76/76 [==============================] - 14s 187ms/step - loss: 0.5787 - accuracy: 0.6818 - val_loss: 0.4830 - val_accuracy: 0.8333\n",
            "Epoch 39/100\n",
            "76/76 [==============================] - 14s 186ms/step - loss: 0.5814 - accuracy: 0.6814 - val_loss: 0.4740 - val_accuracy: 0.8267\n",
            "Epoch 40/100\n",
            "76/76 [==============================] - 14s 186ms/step - loss: 0.5845 - accuracy: 0.6698 - val_loss: 0.5057 - val_accuracy: 0.8267\n",
            "Epoch 41/100\n",
            "76/76 [==============================] - 14s 187ms/step - loss: 0.5981 - accuracy: 0.6558 - val_loss: 0.4584 - val_accuracy: 0.8531\n",
            "Epoch 42/100\n",
            "76/76 [==============================] - 14s 186ms/step - loss: 0.5831 - accuracy: 0.6707 - val_loss: 0.4781 - val_accuracy: 0.8416\n",
            "Epoch 43/100\n",
            "76/76 [==============================] - 14s 186ms/step - loss: 0.5768 - accuracy: 0.6772 - val_loss: 0.5136 - val_accuracy: 0.8086\n",
            "Epoch 44/100\n",
            "76/76 [==============================] - 14s 185ms/step - loss: 0.5800 - accuracy: 0.6760 - val_loss: 0.4663 - val_accuracy: 0.8416\n",
            "Epoch 45/100\n",
            "76/76 [==============================] - 14s 186ms/step - loss: 0.5684 - accuracy: 0.6826 - val_loss: 0.4572 - val_accuracy: 0.8465\n",
            "Epoch 46/100\n",
            "76/76 [==============================] - 14s 187ms/step - loss: 0.5682 - accuracy: 0.6892 - val_loss: 0.4551 - val_accuracy: 0.8251\n",
            "Epoch 47/100\n",
            "76/76 [==============================] - 14s 187ms/step - loss: 0.5803 - accuracy: 0.6711 - val_loss: 0.4552 - val_accuracy: 0.8465\n",
            "Epoch 48/100\n",
            "76/76 [==============================] - 14s 186ms/step - loss: 0.5771 - accuracy: 0.6735 - val_loss: 0.4477 - val_accuracy: 0.8515\n",
            "Epoch 49/100\n",
            "76/76 [==============================] - 14s 187ms/step - loss: 0.5922 - accuracy: 0.6505 - val_loss: 0.6315 - val_accuracy: 0.6469\n",
            "Epoch 50/100\n",
            "76/76 [==============================] - 14s 186ms/step - loss: 0.5685 - accuracy: 0.6793 - val_loss: 0.4666 - val_accuracy: 0.8399\n",
            "Epoch 51/100\n",
            "76/76 [==============================] - 14s 186ms/step - loss: 0.5742 - accuracy: 0.6719 - val_loss: 0.6126 - val_accuracy: 0.6700\n",
            "Epoch 52/100\n",
            "76/76 [==============================] - 14s 187ms/step - loss: 0.5731 - accuracy: 0.6715 - val_loss: 0.4445 - val_accuracy: 0.8168\n",
            "Epoch 53/100\n",
            "76/76 [==============================] - 14s 187ms/step - loss: 0.5758 - accuracy: 0.6694 - val_loss: 0.4435 - val_accuracy: 0.8630\n",
            "Epoch 54/100\n",
            "76/76 [==============================] - 14s 186ms/step - loss: 0.5688 - accuracy: 0.6814 - val_loss: 0.4350 - val_accuracy: 0.8597\n",
            "Epoch 55/100\n",
            "76/76 [==============================] - 14s 186ms/step - loss: 0.5713 - accuracy: 0.6764 - val_loss: 0.4488 - val_accuracy: 0.8482\n",
            "Epoch 56/100\n",
            "76/76 [==============================] - 14s 186ms/step - loss: 0.5763 - accuracy: 0.6719 - val_loss: 0.4584 - val_accuracy: 0.8498\n",
            "Epoch 57/100\n",
            "76/76 [==============================] - 14s 187ms/step - loss: 0.5647 - accuracy: 0.6810 - val_loss: 0.5042 - val_accuracy: 0.8201\n",
            "Epoch 58/100\n",
            "76/76 [==============================] - 14s 187ms/step - loss: 0.5680 - accuracy: 0.6793 - val_loss: 0.4434 - val_accuracy: 0.8515\n",
            "Epoch 59/100\n",
            "76/76 [==============================] - 14s 187ms/step - loss: 0.5678 - accuracy: 0.6801 - val_loss: 0.4416 - val_accuracy: 0.8663\n",
            "Epoch 60/100\n",
            "76/76 [==============================] - 14s 186ms/step - loss: 0.5698 - accuracy: 0.6739 - val_loss: 0.4456 - val_accuracy: 0.8581\n",
            "Epoch 61/100\n",
            "76/76 [==============================] - 14s 186ms/step - loss: 0.5653 - accuracy: 0.6793 - val_loss: 0.5159 - val_accuracy: 0.8152\n",
            "Epoch 62/100\n",
            "76/76 [==============================] - 14s 185ms/step - loss: 0.5743 - accuracy: 0.6698 - val_loss: 0.4348 - val_accuracy: 0.8515\n",
            "Epoch 63/100\n",
            "76/76 [==============================] - 14s 187ms/step - loss: 0.5529 - accuracy: 0.6966 - val_loss: 0.4916 - val_accuracy: 0.8119\n",
            "Epoch 64/100\n",
            "76/76 [==============================] - 14s 187ms/step - loss: 0.5779 - accuracy: 0.6719 - val_loss: 0.4598 - val_accuracy: 0.8465\n",
            "Epoch 65/100\n",
            "76/76 [==============================] - 14s 187ms/step - loss: 0.5623 - accuracy: 0.6830 - val_loss: 0.5126 - val_accuracy: 0.7871\n",
            "Epoch 66/100\n",
            "76/76 [==============================] - 14s 186ms/step - loss: 0.5713 - accuracy: 0.6871 - val_loss: 0.4506 - val_accuracy: 0.8614\n",
            "Epoch 67/100\n",
            "76/76 [==============================] - 14s 187ms/step - loss: 0.5819 - accuracy: 0.6764 - val_loss: 0.4560 - val_accuracy: 0.8581\n",
            "Epoch 68/100\n",
            "76/76 [==============================] - 14s 186ms/step - loss: 0.5846 - accuracy: 0.6752 - val_loss: 0.6439 - val_accuracy: 0.6370\n",
            "Epoch 69/100\n",
            "76/76 [==============================] - 14s 186ms/step - loss: 0.5844 - accuracy: 0.6744 - val_loss: 0.4823 - val_accuracy: 0.8399\n",
            "Epoch 70/100\n",
            "76/76 [==============================] - 14s 185ms/step - loss: 0.5801 - accuracy: 0.6764 - val_loss: 0.4800 - val_accuracy: 0.8416\n",
            "Epoch 71/100\n",
            "76/76 [==============================] - 14s 186ms/step - loss: 0.5843 - accuracy: 0.6752 - val_loss: 0.4531 - val_accuracy: 0.8548\n",
            "Epoch 72/100\n",
            "76/76 [==============================] - 14s 187ms/step - loss: 0.5787 - accuracy: 0.6793 - val_loss: 0.4717 - val_accuracy: 0.8399\n",
            "Epoch 73/100\n",
            "76/76 [==============================] - 14s 187ms/step - loss: 0.5803 - accuracy: 0.6797 - val_loss: 0.4967 - val_accuracy: 0.8267\n",
            "Epoch 74/100\n",
            "76/76 [==============================] - 14s 185ms/step - loss: 0.5777 - accuracy: 0.6814 - val_loss: 0.5041 - val_accuracy: 0.8201\n",
            "Epoch 75/100\n",
            "76/76 [==============================] - 14s 186ms/step - loss: 0.5748 - accuracy: 0.6867 - val_loss: 0.4500 - val_accuracy: 0.8515\n",
            "Epoch 76/100\n",
            "76/76 [==============================] - 14s 186ms/step - loss: 0.5817 - accuracy: 0.6715 - val_loss: 0.4597 - val_accuracy: 0.8531\n",
            "Epoch 77/100\n",
            "76/76 [==============================] - 14s 186ms/step - loss: 0.5902 - accuracy: 0.6694 - val_loss: 0.4737 - val_accuracy: 0.8482\n",
            "Epoch 78/100\n",
            "76/76 [==============================] - 14s 187ms/step - loss: 0.5819 - accuracy: 0.6735 - val_loss: 0.4881 - val_accuracy: 0.8333\n",
            "Epoch 79/100\n",
            "76/76 [==============================] - 14s 186ms/step - loss: 0.5842 - accuracy: 0.6723 - val_loss: 0.4530 - val_accuracy: 0.8630\n",
            "Epoch 80/100\n",
            "76/76 [==============================] - 14s 186ms/step - loss: 0.5725 - accuracy: 0.6855 - val_loss: 0.4767 - val_accuracy: 0.8218\n",
            "Epoch 81/100\n",
            "76/76 [==============================] - 14s 187ms/step - loss: 0.5822 - accuracy: 0.6764 - val_loss: 0.4810 - val_accuracy: 0.8482\n",
            "Epoch 82/100\n",
            "76/76 [==============================] - 14s 186ms/step - loss: 0.5761 - accuracy: 0.6781 - val_loss: 0.5031 - val_accuracy: 0.8168\n",
            "Epoch 83/100\n",
            "76/76 [==============================] - 14s 187ms/step - loss: 0.5718 - accuracy: 0.6838 - val_loss: 0.5249 - val_accuracy: 0.8003\n",
            "Epoch 84/100\n",
            "76/76 [==============================] - 14s 186ms/step - loss: 0.5840 - accuracy: 0.6764 - val_loss: 0.4533 - val_accuracy: 0.8597\n",
            "Epoch 85/100\n",
            "76/76 [==============================] - 14s 186ms/step - loss: 0.5709 - accuracy: 0.6814 - val_loss: 0.4449 - val_accuracy: 0.8548\n",
            "Epoch 86/100\n",
            "76/76 [==============================] - 14s 187ms/step - loss: 0.5753 - accuracy: 0.6822 - val_loss: 0.4757 - val_accuracy: 0.8399\n",
            "Epoch 87/100\n",
            "76/76 [==============================] - 14s 186ms/step - loss: 0.5654 - accuracy: 0.6929 - val_loss: 0.5088 - val_accuracy: 0.8102\n",
            "Epoch 88/100\n",
            "76/76 [==============================] - 14s 186ms/step - loss: 0.5779 - accuracy: 0.6735 - val_loss: 0.4756 - val_accuracy: 0.8432\n",
            "Epoch 89/100\n",
            "76/76 [==============================] - 14s 186ms/step - loss: 0.5680 - accuracy: 0.6946 - val_loss: 0.4602 - val_accuracy: 0.8564\n",
            "Epoch 90/100\n",
            "76/76 [==============================] - 14s 186ms/step - loss: 0.5722 - accuracy: 0.6855 - val_loss: 0.4403 - val_accuracy: 0.8597\n",
            "Epoch 91/100\n",
            "76/76 [==============================] - 14s 186ms/step - loss: 0.5606 - accuracy: 0.6962 - val_loss: 0.4385 - val_accuracy: 0.8581\n",
            "Epoch 92/100\n",
            "76/76 [==============================] - 14s 186ms/step - loss: 0.5661 - accuracy: 0.6913 - val_loss: 0.4504 - val_accuracy: 0.8531\n",
            "Epoch 93/100\n",
            "76/76 [==============================] - 14s 186ms/step - loss: 0.5798 - accuracy: 0.6715 - val_loss: 0.4470 - val_accuracy: 0.8581\n",
            "Epoch 94/100\n",
            "76/76 [==============================] - 14s 186ms/step - loss: 0.5650 - accuracy: 0.6884 - val_loss: 0.5210 - val_accuracy: 0.7954\n",
            "Epoch 95/100\n",
            "76/76 [==============================] - 14s 186ms/step - loss: 0.5792 - accuracy: 0.6764 - val_loss: 0.4617 - val_accuracy: 0.8531\n",
            "Epoch 96/100\n",
            "76/76 [==============================] - 14s 186ms/step - loss: 0.5747 - accuracy: 0.6785 - val_loss: 0.4405 - val_accuracy: 0.8614\n",
            "Epoch 97/100\n",
            "76/76 [==============================] - 14s 187ms/step - loss: 0.5680 - accuracy: 0.6888 - val_loss: 0.4923 - val_accuracy: 0.8119\n",
            "Epoch 98/100\n",
            "76/76 [==============================] - 14s 187ms/step - loss: 0.5809 - accuracy: 0.6723 - val_loss: 0.5845 - val_accuracy: 0.7145\n",
            "Epoch 99/100\n",
            "76/76 [==============================] - 14s 186ms/step - loss: 0.5772 - accuracy: 0.6818 - val_loss: 0.4693 - val_accuracy: 0.8531\n",
            "Epoch 100/100\n",
            "76/76 [==============================] - 14s 186ms/step - loss: 0.5754 - accuracy: 0.6793 - val_loss: 0.4555 - val_accuracy: 0.8548\n"
          ]
        }
      ]
    },
    {
      "cell_type": "code",
      "source": [
        "from matplotlib import pyplot as plt\n",
        "\n",
        "plt.plot(history.history['accuracy'])\n",
        "plt.plot(history.history['val_accuracy'])\n",
        "plt.title('vgg 16 model accuracy')\n",
        "plt.ylabel('accuracy')\n",
        "plt.xlabel('epoch')\n",
        "plt.legend(['train', 'val'], loc='upper left')\n",
        "plt.show()"
      ],
      "metadata": {
        "colab": {
          "base_uri": "https://localhost:8080/",
          "height": 295
        },
        "id": "8ZMUwVQF1krb",
        "outputId": "cbec0378-b12f-499e-8c7b-ac408c7cd4f5"
      },
      "execution_count": null,
      "outputs": [
        {
          "output_type": "display_data",
          "data": {
            "text/plain": [
              "<Figure size 432x288 with 1 Axes>"
            ],
            "image/png": "[encoded data removed]"
          },
          "metadata": {
            "needs_background": "light"
          }
        }
      ]
    },
    {
      "cell_type": "code",
      "source": [],
      "metadata": {
        "id": "QvZq6AlF1obj"
      },
      "execution_count": null,
      "outputs": []
    }
  ]
}